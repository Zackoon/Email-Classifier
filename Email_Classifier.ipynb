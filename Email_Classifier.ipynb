{
 "cells": [
  {
   "cell_type": "markdown",
   "source": "# Email Classifier\n\n## Feature Engineering, Classification, Cross Validation",
   "metadata": {
    "cell_id": "00001-f8f58f05-3f5d-48cd-9778-765f9f0d5eea",
    "deepnote_app_coordinates": {
     "x": 0,
     "y": 1,
     "w": 12,
     "h": 5
    },
    "deepnote_cell_type": "markdown",
    "deepnote_cell_height": 178
   }
  },
  {
   "cell_type": "markdown",
   "source": "## The Goal\nCreate an Email Classifier that differentiates spam emails from normal emails (\"ham\").",
   "metadata": {
    "nbgrader": {
     "grade": false,
     "grade_id": "proj2",
     "locked": true,
     "schema_version": 2,
     "solution": false
    },
    "cell_id": "00003-b69e2858-f1db-44b1-83a1-16eec8f095ed",
    "deepnote_cell_type": "markdown",
    "deepnote_cell_height": 108.390625
   }
  },
  {
   "cell_type": "code",
   "metadata": {
    "ExecuteTime": {
     "end_time": "2019-04-03T20:17:41.341673Z",
     "start_time": "2019-04-03T20:17:41.330307Z"
    },
    "nbgrader": {
     "grade": false,
     "grade_id": "imports",
     "locked": true,
     "schema_version": 2,
     "solution": false
    },
    "cell_id": "00007-6a346a6f-bf57-4354-9c1d-cdaa47ff65e3",
    "deepnote_to_be_reexecuted": false,
    "source_hash": "96f11261",
    "execution_start": 1662072076515,
    "execution_millis": 1891,
    "deepnote_cell_type": "code",
    "deepnote_cell_height": 238
   },
   "source": "import numpy as np\nimport pandas as pd\n\nimport matplotlib.pyplot as plt\n%matplotlib inline\n\nimport seaborn as sns\nsns.set(style = \"whitegrid\", \n        color_codes = True,\n        font_scale = 1.5)",
   "execution_count": 1,
   "outputs": []
  },
  {
   "cell_type": "markdown",
   "source": "### Loading and Cleaning Data\nThe `original_data` DataFrame contains labeled data that'll be split into training and testing the model. The 3 columns are as follows:\n\n1. `label`: Whether the email is spam or ham\n1. `email`: The contents of the email, including the subject line.\n1. `label_num`: 1 if the email is spam, 0 if the email is ham (not spam)\n\nThis spam/ham data was obtained through [Kaggle and posted by Venkatesh G.](https://www.kaggle.com/datasets/venky73/spam-mails-dataset?resource=download)",
   "metadata": {
    "nbgrader": {
     "grade": false,
     "grade_id": "loading",
     "locked": true,
     "schema_version": 2,
     "solution": false
    },
    "tags": [],
    "cell_id": "00008-2e8eab42-a55a-48c0-940d-24df061c6573",
    "deepnote_cell_type": "markdown",
    "deepnote_cell_height": 246.390625
   }
  },
  {
   "cell_type": "code",
   "source": "import zipfile\nwith zipfile.ZipFile('archive.zip') as item:\n    item.extractall()",
   "metadata": {
    "cell_id": "79c6e2f1bd374bc3a734f6a442f0cbd3",
    "tags": [],
    "deepnote_to_be_reexecuted": false,
    "source_hash": "5c68224d",
    "execution_start": 1662072078454,
    "execution_millis": 44,
    "deepnote_cell_type": "code",
    "deepnote_cell_height": 112
   },
   "outputs": [],
   "execution_count": 2
  },
  {
   "cell_type": "code",
   "source": "original_data = pd.read_csv('spam_ham_dataset.csv')\n#rename 'text' to 'email' for better readability\noriginal_data.rename({'text': 'email'}, axis = 1, inplace = True)\n\n# Convert the emails to lower case as a first step in text-processing\noriginal_data['email'] = original_data['email'].str.lower()\n\n# The unnamed column isn't necessary, and the label column is redundant\noriginal_data = original_data.iloc[:,[2,3]]\n\noriginal_data.head()",
   "metadata": {
    "cell_id": "00010-4b20671f-fcaf-421a-98bd-a08d20517180",
    "deepnote_to_be_reexecuted": false,
    "source_hash": "7233b0c2",
    "execution_start": 1662072078499,
    "execution_millis": 908,
    "deepnote_cell_type": "code",
    "deepnote_cell_height": 570
   },
   "execution_count": 3,
   "outputs": [
    {
     "output_type": "execute_result",
     "execution_count": 3,
     "data": {
      "application/vnd.deepnote.dataframe.v3+json": {
       "column_count": 2,
       "row_count": 5,
       "columns": [
        {
         "name": "email",
         "dtype": "object",
         "stats": {
          "unique_count": 5,
          "nan_count": 0,
          "categories": [
           {
            "name": "subject: enron methanol ; meter # : 988291\r\nthis is a follow up to the note i gave you on monday , 4 / 3 / 00 { preliminary\r\nflow data provided by daren } .\r\nplease override pop ' s daily volume { presently zero } to reflect daily\r\nactivity you can obtain from gas control .\r\nthis change is needed asap for economics purposes .",
            "count": 1
           },
           {
            "name": "subject: hpl nom for january 9 , 2001\r\n( see attached file : hplnol 09 . xls )\r\n- hplnol 09 . xls",
            "count": 1
           },
           {
            "name": "3 others",
            "count": 3
           }
          ]
         }
        },
        {
         "name": "label_num",
         "dtype": "int64",
         "stats": {
          "unique_count": 2,
          "nan_count": 0,
          "min": "0",
          "max": "1",
          "histogram": [
           {
            "bin_start": 0,
            "bin_end": 0.1,
            "count": 4
           },
           {
            "bin_start": 0.1,
            "bin_end": 0.2,
            "count": 0
           },
           {
            "bin_start": 0.2,
            "bin_end": 0.30000000000000004,
            "count": 0
           },
           {
            "bin_start": 0.30000000000000004,
            "bin_end": 0.4,
            "count": 0
           },
           {
            "bin_start": 0.4,
            "bin_end": 0.5,
            "count": 0
           },
           {
            "bin_start": 0.5,
            "bin_end": 0.6000000000000001,
            "count": 0
           },
           {
            "bin_start": 0.6000000000000001,
            "bin_end": 0.7000000000000001,
            "count": 0
           },
           {
            "bin_start": 0.7000000000000001,
            "bin_end": 0.8,
            "count": 0
           },
           {
            "bin_start": 0.8,
            "bin_end": 0.9,
            "count": 0
           },
           {
            "bin_start": 0.9,
            "bin_end": 1,
            "count": 1
           }
          ]
         }
        },
        {
         "name": "_deepnote_index_column",
         "dtype": "int64"
        }
       ],
       "rows": [
        {
         "email": "subject: enron methanol ; meter # : 988291\r\nthis is a follow up to the note i gave you on monday , 4 / 3 / 00 { preliminary\r\nflow data provided by daren } .\r\nplease override pop ' s daily volume { presently zero } to reflect daily\r\nactivity you can obtain from gas control .\r\nthis change is needed asap for economics purposes .",
         "label_num": "0",
         "_deepnote_index_column": "0"
        },
        {
         "email": "subject: hpl nom for january 9 , 2001\r\n( see attached file : hplnol 09 . xls )\r\n- hplnol 09 . xls",
         "label_num": "0",
         "_deepnote_index_column": "1"
        },
        {
         "email": "subject: neon retreat\r\nho ho ho , we ' re around to that most wonderful time of the year - - - neon leaders retreat time !\r\ni know that this time of year is extremely hectic , and that it ' s tough to think about anything past the holidays , but life does go on past the week of december 25 through january 1 , and that ' s what i ' d like you to think about for a minute .\r\non the calender that i handed out at the beginning of the fall semester , the retreat was scheduled for the weekend of january 5 - 6 . but because of a youth ministers conference that brad and dustin are connected with that week , we ' re going to change the date to the following weekend , january 12 - 13 . now comes the part you need to think about .\r\ni think we all agree that it ' s important for us to get together and have some time to recharge our batteries before we get to far into the spring semester , but it can be a lot of trouble and difficult for us to get away without kids , etc . so , brad came up with a …",
         "label_num": "0",
         "_deepnote_index_column": "2"
        },
        {
         "email": "subject: photoshop , windows , office . cheap . main trending\r\nabasements darer prudently fortuitous undergone\r\nlighthearted charm orinoco taster\r\nrailroad affluent pornographic cuvier\r\nirvin parkhouse blameworthy chlorophyll\r\nrobed diagrammatic fogarty clears bayda\r\ninconveniencing managing represented smartness hashish\r\nacademies shareholders unload badness\r\ndanielson pure caffein\r\nspaniard chargeable levin\r\n",
         "label_num": "1",
         "_deepnote_index_column": "3"
        },
        {
         "email": "subject: re : indian springs\r\nthis deal is to book the teco pvr revenue . it is my understanding that teco\r\njust sends us a check , i haven ' t received an answer as to whether there is a\r\npredermined price associated with this deal or if teco just lets us know what\r\nwe are giving . i can continue to chase this deal down if you need .",
         "label_num": "0",
         "_deepnote_index_column": "4"
        }
       ]
      },
      "text/plain": "                                               email  label_num\n0  subject: enron methanol ; meter # : 988291\\r\\n...          0\n1  subject: hpl nom for january 9 , 2001\\r\\n( see...          0\n2  subject: neon retreat\\r\\nho ho ho , we ' re ar...          0\n3  subject: photoshop , windows , office . cheap ...          1\n4  subject: re : indian springs\\r\\nthis deal is t...          0",
      "text/html": "<div>\n<style scoped>\n    .dataframe tbody tr th:only-of-type {\n        vertical-align: middle;\n    }\n\n    .dataframe tbody tr th {\n        vertical-align: top;\n    }\n\n    .dataframe thead th {\n        text-align: right;\n    }\n</style>\n<table border=\"1\" class=\"dataframe\">\n  <thead>\n    <tr style=\"text-align: right;\">\n      <th></th>\n      <th>email</th>\n      <th>label_num</th>\n    </tr>\n  </thead>\n  <tbody>\n    <tr>\n      <th>0</th>\n      <td>subject: enron methanol ; meter # : 988291\\r\\n...</td>\n      <td>0</td>\n    </tr>\n    <tr>\n      <th>1</th>\n      <td>subject: hpl nom for january 9 , 2001\\r\\n( see...</td>\n      <td>0</td>\n    </tr>\n    <tr>\n      <th>2</th>\n      <td>subject: neon retreat\\r\\nho ho ho , we ' re ar...</td>\n      <td>0</td>\n    </tr>\n    <tr>\n      <th>3</th>\n      <td>subject: photoshop , windows , office . cheap ...</td>\n      <td>1</td>\n    </tr>\n    <tr>\n      <th>4</th>\n      <td>subject: re : indian springs\\r\\nthis deal is t...</td>\n      <td>0</td>\n    </tr>\n  </tbody>\n</table>\n</div>"
     },
     "metadata": {}
    }
   ]
  },
  {
   "cell_type": "code",
   "source": "# Fill any missing or NAN values\noriginal_data = original_data.fillna('')\nprint('Null Value Counts:')\nprint(original_data.isnull().sum())",
   "metadata": {
    "ExecuteTime": {
     "end_time": "2019-04-03T20:17:42.203231Z",
     "start_time": "2019-04-03T20:17:42.185104Z"
    },
    "nbgrader": {
     "grade": false,
     "grade_id": "cell-b1fb39d9b651ca1b",
     "locked": false,
     "schema_version": 2,
     "solution": true
    },
    "cell_id": "00012-cc2fb101-052e-4802-9182-31fa31db2573",
    "deepnote_to_be_reexecuted": false,
    "source_hash": "2ec84ac5",
    "execution_start": 1662072078619,
    "execution_millis": 794,
    "deepnote_cell_type": "code",
    "deepnote_cell_height": 219.78125
   },
   "execution_count": 4,
   "outputs": [
    {
     "name": "stdout",
     "text": "Null Value Counts:\nemail        0\nlabel_num    0\ndtype: int64\n",
     "output_type": "stream"
    }
   ]
  },
  {
   "cell_type": "markdown",
   "source": "### Training/Test Split\n\nThe idea is to use an 90/10 Train/Test split so a 10-fold cross validation can be performed afterwards. A random state of 42 is chosen to keep results comparable across runs.",
   "metadata": {
    "cell_id": "00013-7791e616-04e5-45c9-8ac7-1c3651a212ce",
    "deepnote_cell_type": "markdown",
    "deepnote_cell_height": 122.796875
   }
  },
  {
   "cell_type": "code",
   "source": "from sklearn.model_selection import train_test_split\ntrain, test = train_test_split(original_data, test_size = 0.1, random_state = 42)",
   "metadata": {
    "ExecuteTime": {
     "end_time": "2019-04-03T20:17:42.317970Z",
     "start_time": "2019-04-03T20:17:42.294532Z"
    },
    "nbgrader": {
     "grade": false,
     "grade_id": "cell-873194ed3e686dfb",
     "locked": true,
     "schema_version": 2,
     "solution": false
    },
    "cell_id": "00014-9fd1bfec-97d9-4e92-8802-6dca3aa3ed05",
    "deepnote_to_be_reexecuted": false,
    "source_hash": "3e18856c",
    "execution_start": 1662072078620,
    "execution_millis": 245,
    "deepnote_cell_type": "code",
    "deepnote_cell_height": 94
   },
   "execution_count": 5,
   "outputs": []
  },
  {
   "cell_type": "markdown",
   "source": "### Feature Engineering\n\nThe idea behind this section is that we require quantitative features in our design matrix to train our classifier. To handle the text data, the following function below `words_in_texts` will be detecting (0/1) whether a word appears in an email. 0 if the word doesn't appear in the text and 1 if the word does. ",
   "metadata": {
    "nbgrader": {
     "grade": false,
     "grade_id": "feat-eng",
     "locked": true,
     "schema_version": 2,
     "solution": false
    },
    "cell_id": "00015-92a010d6-2d88-47ab-b54e-7f04c2d6bf3f",
    "deepnote_cell_type": "markdown",
    "deepnote_cell_height": 167.59375
   }
  },
  {
   "cell_type": "code",
   "source": "def words_in_texts(words, texts):\n    '''\n    Args:\n        words (list): words to find\n        texts (Series): strings to search in \n    \n    Returns:\n        NumPy array of 0s and 1s with shape (n, p) (n rows, p columns) where n is the\n        number of texts and p is the number of words to find.\n    '''\n    indicator_array = np.array([[(word in text) for word in words] for text in texts]).astype(int)\n    return indicator_array",
   "metadata": {
    "cell_id": "00016-01a206b2-b793-4b0b-9199-bfcdc33a8d5b",
    "deepnote_to_be_reexecuted": false,
    "source_hash": "899ba263",
    "execution_start": 1662072078871,
    "execution_millis": 59,
    "deepnote_cell_type": "code",
    "deepnote_cell_height": 279
   },
   "execution_count": 6,
   "outputs": []
  },
  {
   "cell_type": "markdown",
   "source": "Testing it on some dummy text:",
   "metadata": {
    "cell_id": "00017-33a65a47-45ef-4579-b632-565946aaf8ff",
    "deepnote_cell_type": "markdown",
    "deepnote_cell_height": 52.390625
   }
  },
  {
   "cell_type": "code",
   "source": "words_in_texts(['welcome', 'to', 'my', 'project!'], pd.Series(['welcome to deepnote', 'my project?']))",
   "metadata": {
    "cell_id": "00018-68f49e37-74cb-4724-add1-890c4e97e9af",
    "deepnote_to_be_reexecuted": false,
    "source_hash": "c1f523e6",
    "execution_start": 1662072078930,
    "execution_millis": 0,
    "deepnote_cell_type": "code",
    "deepnote_cell_height": 136.390625,
    "deepnote_output_heights": [
     39.390625
    ]
   },
   "execution_count": 7,
   "outputs": [
    {
     "output_type": "execute_result",
     "execution_count": 7,
     "data": {
      "text/plain": "array([[1, 1, 0, 0],\n       [0, 0, 1, 0]])"
     },
     "metadata": {}
    }
   ]
  },
  {
   "cell_type": "markdown",
   "source": "### EDA and Basic Classification\n\nUsing `words_in_texts(words, train['email'])`, we can try to directly train a logisitic regression model using random words and sklearn's `LogisticRegression` class.",
   "metadata": {
    "nbgrader": {
     "grade": false,
     "grade_id": "classification",
     "locked": true,
     "schema_version": 2,
     "solution": false
    },
    "cell_id": "00019-d93d71a8-8f9c-4a6c-9d3d-c674ec6b146e",
    "deepnote_cell_type": "markdown",
    "deepnote_cell_height": 122.796875
   }
  },
  {
   "cell_type": "code",
   "source": "some_words = ['this', 'is', 'an', 'email', 'classifier']\n\nX_train = words_in_texts(some_words, train['email'])\nY_train = np.array(train['label_num'])\n\nX_train[:5], Y_train[:5]",
   "metadata": {
    "ExecuteTime": {
     "end_time": "2019-04-03T20:17:43.726012Z",
     "start_time": "2019-04-03T20:17:43.498088Z"
    },
    "nbgrader": {
     "grade": false,
     "grade_id": "q4-answer",
     "locked": false,
     "schema_version": 2,
     "solution": true
    },
    "tags": [
     "student"
    ],
    "cell_id": "00020-aaea2e3b-2d56-4323-9064-f38e7c712362",
    "deepnote_to_be_reexecuted": false,
    "source_hash": "d7fd8028",
    "execution_start": 1662072078931,
    "execution_millis": 513,
    "deepnote_cell_type": "code",
    "deepnote_cell_height": 298.171875,
    "deepnote_output_heights": [
     116.171875
    ]
   },
   "execution_count": 8,
   "outputs": [
    {
     "output_type": "execute_result",
     "execution_count": 8,
     "data": {
      "text/plain": "(array([[0, 1, 0, 0, 0],\n        [1, 1, 1, 0, 0],\n        [0, 0, 1, 0, 0],\n        [1, 1, 1, 0, 0],\n        [1, 1, 1, 0, 0]]),\n array([0, 1, 0, 0, 0]))"
     },
     "metadata": {}
    }
   ]
  },
  {
   "cell_type": "code",
   "source": "from sklearn.linear_model import LogisticRegression\n\nmodel = LogisticRegression(solver = 'saga')\nmodel.fit(X_train, Y_train)\n\ntraining_accuracy = model.score(X_train, Y_train)\nprint(\"Training Accuracy: \", training_accuracy)",
   "metadata": {
    "ExecuteTime": {
     "end_time": "2019-04-03T20:17:44.593918Z",
     "start_time": "2019-04-03T20:17:43.783872Z"
    },
    "nbgrader": {
     "grade": false,
     "grade_id": "q5-answer",
     "locked": false,
     "schema_version": 2,
     "solution": true
    },
    "tags": [
     "student"
    ],
    "cell_id": "00021-890cfcee-b172-449d-8a48-76b4d48ea5a2",
    "deepnote_to_be_reexecuted": false,
    "source_hash": "96f22551",
    "execution_start": 1662072078932,
    "execution_millis": 515,
    "deepnote_cell_type": "code",
    "deepnote_cell_height": 214.6875
   },
   "execution_count": 9,
   "outputs": [
    {
     "name": "stdout",
     "text": "Training Accuracy:  0.7214700193423598\n",
     "output_type": "stream"
    }
   ]
  },
  {
   "cell_type": "markdown",
   "source": "## Feature Selection Process\n\nThe two types of features looked into were:\n\n1. Specific words that differed between ham and spam emails.\n2. Metrics such as length, alphanumeric counts, punctuation, etc. This didn't prove as fruitful.",
   "metadata": {
    "deletable": false,
    "editable": false,
    "nbgrader": {
     "grade": false,
     "grade_id": "q7",
     "locked": true,
     "schema_version": 2,
     "solution": false
    },
    "cell_id": "00025-4cf193c4-4d16-4c50-9223-55763955d185",
    "deepnote_cell_type": "markdown",
    "deepnote_cell_height": 184.1875
   }
  },
  {
   "cell_type": "markdown",
   "source": "### Evaluating Which Words to Look For",
   "metadata": {
    "tags": [],
    "cell_id": "00027-69a67ee5-6e2f-4dfb-a68e-e5ecb3f7033c",
    "deepnote_cell_type": "markdown",
    "deepnote_cell_height": 62
   }
  },
  {
   "cell_type": "code",
   "source": "spams = train[train['label_num'] == 1]\nhams = train[~(train['label_num'] == 1)]",
   "metadata": {
    "cell_id": "00028-6d6b5f43-971b-443c-bc90-2c5f315dd078",
    "deepnote_to_be_reexecuted": false,
    "source_hash": "b21a520f",
    "execution_start": 1662072079000,
    "execution_millis": 6,
    "deepnote_cell_type": "code",
    "deepnote_cell_height": 94
   },
   "execution_count": 10,
   "outputs": []
  },
  {
   "cell_type": "code",
   "metadata": {
    "cell_id": "00029-9b771be0-065b-4aa1-b6a4-371a449ddf5c",
    "deepnote_to_be_reexecuted": false,
    "source_hash": "f77eea02",
    "execution_start": 1662072079011,
    "execution_millis": 8,
    "deepnote_cell_type": "code",
    "deepnote_cell_height": 117
   },
   "source": "from collections import Counter \n#we will need the counter class for below; the main metric is whether a word appeared in an email at least once \n#So, we will need to add \"dictionaries\" (Counter class makes it easier)",
   "execution_count": 11,
   "outputs": []
  },
  {
   "cell_type": "code",
   "source": "def appearance_to_counter(words):\n    \"\"\"For a given word list, words, it'll create a Counter (like dictionary, but can add values) object that stores whether it appeared or not (1 or 0).\n        Note that this would mean each counter is only populated with values of 1, which is good, since we are only checking for word appearance \n        per email, not total counts.\n        \n        Also note that it is called words, but the list may have punctuation etc. which is still valuable for our purposes\"\"\"\n    dic = {}\n    for word in words:\n        dic[word] = dic.get(word, 1)\n    return Counter(dic)\n\n#'words' were determined to be a series of characters being split by whitespace\nhams.loc[:,'words'] = hams.loc[:,'email'].str.split()\nspams.loc[:,'words'] = spams.loc[:,'email'].str.split()",
   "metadata": {
    "cell_id": "00030-147498c1-1f4b-4276-9697-d4e8d6695603",
    "deepnote_to_be_reexecuted": false,
    "source_hash": "fbceb2a6",
    "execution_start": 1662072079065,
    "execution_millis": 430,
    "deepnote_cell_type": "code",
    "deepnote_cell_height": 566.84375
   },
   "execution_count": 12,
   "outputs": [
    {
     "name": "stderr",
     "text": "/shared-libs/python3.9/py/lib/python3.9/site-packages/pandas/core/indexing.py:1597: SettingWithCopyWarning: \nA value is trying to be set on a copy of a slice from a DataFrame.\nTry using .loc[row_indexer,col_indexer] = value instead\n\nSee the caveats in the documentation: https://pandas.pydata.org/pandas-docs/stable/user_guide/indexing.html#returning-a-view-versus-a-copy\n  self.obj[key] = value\n/shared-libs/python3.9/py/lib/python3.9/site-packages/pandas/core/indexing.py:1676: SettingWithCopyWarning: \nA value is trying to be set on a copy of a slice from a DataFrame.\nTry using .loc[row_indexer,col_indexer] = value instead\n\nSee the caveats in the documentation: https://pandas.pydata.org/pandas-docs/stable/user_guide/indexing.html#returning-a-view-versus-a-copy\n  self._setitem_single_column(ilocs[0], value, pi)\n",
     "output_type": "stream"
    }
   ]
  },
  {
   "cell_type": "code",
   "metadata": {
    "cell_id": "00031-4a845a4f-ec38-4929-95aa-cebfe7308f8e",
    "deepnote_to_be_reexecuted": false,
    "source_hash": "865041b1",
    "execution_start": 1662072079207,
    "execution_millis": 0,
    "deepnote_cell_type": "code",
    "deepnote_cell_height": 117
   },
   "source": "#sample 1000 rows with replacement from each table because running the above function on ALL rows is too computationally intensive\nhams_1000 = hams.sample(n = 1000, replace = True, axis = 0, random_state = 42)\nspams_1000 = spams.sample(n = 1000, replace = True, axis = 0, random_state = 42)",
   "execution_count": 13,
   "outputs": []
  },
  {
   "cell_type": "code",
   "metadata": {
    "cell_id": "00032-af1cf339-976d-4378-825a-d8d10550171a",
    "deepnote_to_be_reexecuted": false,
    "source_hash": "24a82053",
    "execution_start": 1662072079208,
    "execution_millis": 289,
    "deepnote_cell_type": "code",
    "deepnote_cell_height": 595,
    "deepnote_output_heights": [
     381.1875
    ]
   },
   "source": "hams_1000",
   "execution_count": 14,
   "outputs": [
    {
     "output_type": "execute_result",
     "execution_count": 14,
     "data": {
      "application/vnd.deepnote.dataframe.v3+json": {
       "column_count": 3,
       "row_count": 1000,
       "columns": [
        {
         "name": "email",
         "dtype": "object",
         "stats": {
          "unique_count": 848,
          "nan_count": 0,
          "categories": [
           {
            "name": "subject: calpine daily gas nomination\r\n>\r\nricky a . archer\r\nfuel supply\r\n700 louisiana , suite 2700\r\nhouston , texas 77002\r\n713 - 830 - 8659 direct\r\n713 - 830 - 8722 fax\r\n- calpine daily gas nomination 1 . doc",
            "count": 5
           },
           {
            "name": "subject: resume - marcia curry\r\njob posting response , i have not talked to this person .\r\n- resumel . doc",
            "count": 4
           },
           {
            "name": "846 others",
            "count": 991
           }
          ]
         }
        },
        {
         "name": "label_num",
         "dtype": "int64",
         "stats": {
          "unique_count": 1,
          "nan_count": 0,
          "min": "0",
          "max": "0",
          "histogram": [
           {
            "bin_start": -0.5,
            "bin_end": -0.4,
            "count": 0
           },
           {
            "bin_start": -0.4,
            "bin_end": -0.3,
            "count": 0
           },
           {
            "bin_start": -0.3,
            "bin_end": -0.19999999999999996,
            "count": 0
           },
           {
            "bin_start": -0.19999999999999996,
            "bin_end": -0.09999999999999998,
            "count": 0
           },
           {
            "bin_start": -0.09999999999999998,
            "bin_end": 0,
            "count": 0
           },
           {
            "bin_start": 0,
            "bin_end": 0.10000000000000009,
            "count": 1000
           },
           {
            "bin_start": 0.10000000000000009,
            "bin_end": 0.20000000000000007,
            "count": 0
           },
           {
            "bin_start": 0.20000000000000007,
            "bin_end": 0.30000000000000004,
            "count": 0
           },
           {
            "bin_start": 0.30000000000000004,
            "bin_end": 0.4,
            "count": 0
           },
           {
            "bin_start": 0.4,
            "bin_end": 0.5,
            "count": 0
           }
          ]
         }
        },
        {
         "name": "words",
         "dtype": "object",
         "stats": {
          "unique_count": 1000,
          "nan_count": 0,
          "categories": [
           {
            "name": "['subject:', 'calpine', 'daily', 'gas', 'nomination', '>', 'ricky', 'a', '.', 'archer', 'fuel', 'supply', '700', 'louisiana', ',', 'suite', '2700', 'houston', ',', 'texas', '77002', '713', '-', '830', '-', '8659', 'direct', '713', '-', '830', '-', '8722', 'fax', '-', 'calpine', 'daily', 'gas', 'nomination', '1', '.', 'doc']",
            "count": 5
           },
           {
            "name": "['subject:', 'resume', '-', 'marcia', 'curry', 'job', 'posting', 'response', ',', 'i', 'have', 'not', 'talked', 'to', 'this', 'person', '.', '-', 'resumel', '.', 'doc']",
            "count": 4
           },
           {
            "name": "838 others",
            "count": 991
           }
          ]
         }
        },
        {
         "name": "_deepnote_index_column",
         "dtype": "int64"
        }
       ],
       "rows": [
        {
         "email": "subject: revision\r\nhuntsville / woodlands / conroe 11500 by 8 days = 92 , 000\r\nbig ticket 120000 @ 4 days = 480 , 000\r\n50000 @ 4 days = 200 , 000\r\n- - - - - - - - - - - - - - - - - - - - - - forwarded by ami chokshi / corp / enron on 12 / 23 / 99 09 : 16\r\nam - - - - - - - - - - - - - - - - - - - - - - - - - - -\r\nenron north america corp .\r\nfrom : ami chokshi 12 / 23 / 99 08 : 27 am\r\nto : david baumbach / hou / ect @ ect , daren j farmer / hou / ect @ ect\r\ncc :\r\nsubject :\r\nentex increase rom :\r\nhuntsville / woodlands / conroe 11500 by 8 days = 92 , 000\r\nbig ticket 50000 by 8 days = 400 , 000\r\nami",
         "label_num": "0",
         "words": "['subject:', 'revision', 'huntsville', '/', 'woodlands', '/', 'conroe', '11500', 'by', '8', 'days', '=', '92', ',', '000', 'big', 'ticket', '120000', '@', '4', 'days', '=', '480', ',', '000', '50000', '@', '4', 'days', '=', '200', ',', '000', '-', '-', '-', '-', '-', '-', '-', '-', '-', '-', '-', '-', '-', '-', '-', '-', '-', '-', '-', '-', '-', '-', 'forwarded', 'by', 'ami', 'chokshi', '/', 'corp', '/', 'enron', 'on', '12', '/', '23', '/', '99', '09', ':', '16', 'am', '-', '-', '-', '-', '-', '-', '-', '-', '-', '-', '-', '-', '-', '-', '-', '-', '-', '-', '-', '-', '-', '-', '-', '-', '-', '-', '-', 'enron', 'north', 'america', 'corp', '.', 'from', ':', 'ami', 'chokshi', '12', '/', '23', '/', '99', '08', ':', '27', 'am', 'to', ':', 'david', 'baumbach', '/', 'hou', '/', 'ect', '@', 'ect', ',', 'daren', 'j', 'farmer', '/', 'hou', '/', 'ect', '@', 'ect', 'cc', ':', 'subject', ':', 'entex', 'increase', 'rom', ':', 'huntsville', '/', 'woodlands', '/', 'conroe', '11500', 'by', '8', 'days'…",
         "_deepnote_index_column": "5117"
        },
        {
         "email": "subject: physical gas summary by desk\r\njeff , here is the information you requested on where we were as of december 11 th . please note this is a snapshot and the situation is very fluid .\r\nbob superty",
         "label_num": "0",
         "words": "['subject:', 'physical', 'gas', 'summary', 'by', 'desk', 'jeff', ',', 'here', 'is', 'the', 'information', 'you', 'requested', 'on', 'where', 'we', 'were', 'as', 'of', 'december', '11', 'th', '.', 'please', 'note', 'this', 'is', 'a', 'snapshot', 'and', 'the', 'situation', 'is', 'very', 'fluid', '.', 'bob', 'superty']",
         "_deepnote_index_column": "2561"
        },
        {
         "email": "subject: out of the office\r\ni will be out of the office this afternoon , beginning at 1 p . m . should\r\nanyone receive a call or question regarding the pgev hub , please call mark\r\nmccoy at extension 33396 . thank you .\r\nmary",
         "label_num": "0",
         "words": "['subject:', 'out', 'of', 'the', 'office', 'i', 'will', 'be', 'out', 'of', 'the', 'office', 'this', 'afternoon', ',', 'beginning', 'at', '1', 'p', '.', 'm', '.', 'should', 'anyone', 'receive', 'a', 'call', 'or', 'question', 'regarding', 'the', 'pgev', 'hub', ',', 'please', 'call', 'mark', 'mccoy', 'at', 'extension', '33396', '.', 'thank', 'you', '.', 'mary']",
         "_deepnote_index_column": "981"
        },
        {
         "email": "subject: re : january nominations at shell deer park\r\nfyi - i adjusted the tickets to reflect the volumes below .\r\nmary\r\n- - - - - - - - - - - - - - - - - - - - - - forwarded by mary poorman / na / enron on 01 / 02 / 2001 09 : 40\r\nam - - - - - - - - - - - - - - - - - - - - - - - - - - -\r\n\" shankster jl ( luther ) \" on 01 / 02 / 2001 08 : 47 : 36 am\r\nto : \" ' mary . poorman @ enron . com ' \"\r\ncc : \" ' lamphier , gary ' \"\r\nsubject : re : january nominations at shell deer park\r\nmary ,\r\nwe have a 90 , 000 mmbtu / d first of the month nomination against our term\r\nbaseload contract and a 20 , 000 mmbtu / d spot swing contract for january . i\r\nassume that the 105 , 000 mmbtu / d demand request would be allocated 90 , 000\r\nmmbtu / d against the baseload contract and 15 , 000 mmbtu / d against the spot\r\nswing contract .\r\n> j . luther shankster\r\n>\r\n> energy & utilities planning\r\n> phone : 713 / 277 - 9307\r\n> fax : 713 / 277 - 9941\r\n> e - mail : jlshankster @ equiva . com\r\n> home page : http : /…",
         "label_num": "0",
         "words": "['subject:', 're', ':', 'january', 'nominations', 'at', 'shell', 'deer', 'park', 'fyi', '-', 'i', 'adjusted', 'the', 'tickets', 'to', 'reflect', 'the', 'volumes', 'below', '.', 'mary', '-', '-', '-', '-', '-', '-', '-', '-', '-', '-', '-', '-', '-', '-', '-', '-', '-', '-', '-', '-', '-', '-', 'forwarded', 'by', 'mary', 'poorman', '/', 'na', '/', 'enron', 'on', '01', '/', '02', '/', '2001', '09', ':', '40', 'am', '-', '-', '-', '-', '-', '-', '-', '-', '-', '-', '-', '-', '-', '-', '-', '-', '-', '-', '-', '-', '-', '-', '-', '-', '-', '-', '-', '\"', 'shankster', 'jl', '(', 'luther', ')', '\"', 'on', '01', '/', '02', '/', '2001', '08', ':', '47', ':', '36', 'am', 'to', ':', '\"', \"'\", 'mary', '.', 'poorman', '@', 'enron', '.', 'com', \"'\", '\"', 'cc', ':', '\"', \"'\", 'lamphier', ',', 'gary', \"'\", '\"', 'subject', ':', 're', ':', 'january', 'nominations', 'at', 'shell', 'deer', 'park', 'mary', ',', 'we', 'have', 'a', '90', ',', '000', 'mmbtu', '/', 'd', 'first', 'of', 'the', 'month', 'nomina…",
         "_deepnote_index_column": "4280"
        },
        {
         "email": "subject: shut - in of meter 989842\r\nmeter 0989842 tri - c resources gov . daniel was shut in at approximately 12 : 00 pm on friday april 13 . the producer was shut in due to high hydrocarbon dew point .\r\nif you have any questions please call me at 3 . 6449 .\r\nthanks\r\ngary hanks",
         "label_num": "0",
         "words": "['subject:', 'shut', '-', 'in', 'of', 'meter', '989842', 'meter', '0989842', 'tri', '-', 'c', 'resources', 'gov', '.', 'daniel', 'was', 'shut', 'in', 'at', 'approximately', '12', ':', '00', 'pm', 'on', 'friday', 'april', '13', '.', 'the', 'producer', 'was', 'shut', 'in', 'due', 'to', 'high', 'hydrocarbon', 'dew', 'point', '.', 'if', 'you', 'have', 'any', 'questions', 'please', 'call', 'me', 'at', '3', '.', '6449', '.', 'thanks', 'gary', 'hanks']",
         "_deepnote_index_column": "4075"
        },
        {
         "email": "subject: txu nom . s for 11 / 29 / 00\r\n( see attached file : hplnl 129 . xls )\r\n- hplnl 129 . xls",
         "label_num": "0",
         "words": "['subject:', 'txu', 'nom', '.', 's', 'for', '11', '/', '29', '/', '00', '(', 'see', 'attached', 'file', ':', 'hplnl', '129', '.', 'xls', ')', '-', 'hplnl', '129', '.', 'xls']",
         "_deepnote_index_column": "699"
        },
        {
         "email": "subject: re : lst rev feb . 2000 josey ranch nom\r\ndaren i since you were at the offsite i went ahead and changed the volume\r\ndown to 12 , 400 from 13 , 000 .",
         "label_num": "0",
         "words": "['subject:', 're', ':', 'lst', 'rev', 'feb', '.', '2000', 'josey', 'ranch', 'nom', 'daren', 'i', 'since', 'you', 'were', 'at', 'the', 'offsite', 'i', 'went', 'ahead', 'and', 'changed', 'the', 'volume', 'down', 'to', '12', ',', '400', 'from', '13', ',', '000', '.']",
         "_deepnote_index_column": "172"
        },
        {
         "email": "subject: enron methanol\r\nfor maro 0 , siatar # 139055 , you will need to make adjustments to the risk\r\nassignments etc . , as i have made some changes to the booked deal .\r\nfor march 1 to 10 , enron methanol will take zero volumes ( they will be down\r\nfor maintenance - a force majeure situation )\r\nfor march 11 to 31 , they will take 33 , 000 / d at a price of gas daily hsc mid\r\nflat .\r\nthanks\r\nlee",
         "label_num": "0",
         "words": "['subject:', 'enron', 'methanol', 'for', 'maro', '0', ',', 'siatar', '#', '139055', ',', 'you', 'will', 'need', 'to', 'make', 'adjustments', 'to', 'the', 'risk', 'assignments', 'etc', '.', ',', 'as', 'i', 'have', 'made', 'some', 'changes', 'to', 'the', 'booked', 'deal', '.', 'for', 'march', '1', 'to', '10', ',', 'enron', 'methanol', 'will', 'take', 'zero', 'volumes', '(', 'they', 'will', 'be', 'down', 'for', 'maintenance', '-', 'a', 'force', 'majeure', 'situation', ')', 'for', 'march', '11', 'to', '31', ',', 'they', 'will', 'take', '33', ',', '000', '/', 'd', 'at', 'a', 'price', 'of', 'gas', 'daily', 'hsc', 'mid', 'flat', '.', 'thanks', 'lee']",
         "_deepnote_index_column": "2548"
        },
        {
         "email": "subject: hpl noms for june 20 , 2000\r\n( see attached file : hplo 620 . xls )\r\n- hplo 620 . xls",
         "label_num": "0",
         "words": "['subject:', 'hpl', 'noms', 'for', 'june', '20', ',', '2000', '(', 'see', 'attached', 'file', ':', 'hplo', '620', '.', 'xls', ')', '-', 'hplo', '620', '.', 'xls']",
         "_deepnote_index_column": "3458"
        },
        {
         "email": "subject: 98 - 9794 ( saxet thompsonville ) receiving under nom\r\ntom ,\r\ncan you please seek daren ' s advise on nom adjust at the aforementioned meter\r\ndue to this meter receiving 19 mmbtu ' s on a 28 nom ?\r\ndaren , there are two sitara deal numbers associated w / this receipt meter\r\n( both gathering ) 154608 and 138572 . 138572 is wellhead gas .\r\nthanks\r\n- jackie -",
         "label_num": "0",
         "words": "['subject:', '98', '-', '9794', '(', 'saxet', 'thompsonville', ')', 'receiving', 'under', 'nom', 'tom', ',', 'can', 'you', 'please', 'seek', 'daren', \"'\", 's', 'advise', 'on', 'nom', 'adjust', 'at', 'the', 'aforementioned', 'meter', 'due', 'to', 'this', 'meter', 'receiving', '19', 'mmbtu', \"'\", 's', 'on', 'a', '28', 'nom', '?', 'daren', ',', 'there', 'are', 'two', 'sitara', 'deal', 'numbers', 'associated', 'w', '/', 'this', 'receipt', 'meter', '(', 'both', 'gathering', ')', '154608', 'and', '138572', '.', '138572', 'is', 'wellhead', 'gas', '.', 'thanks', '-', 'jackie', '-']",
         "_deepnote_index_column": "2843"
        }
       ]
      },
      "text/plain": "                                                  email  label_num  \\\n5117  subject: revision\\r\\nhuntsville / woodlands / ...          0   \n2561  subject: physical gas summary by desk\\r\\njeff ...          0   \n981   subject: out of the office\\r\\ni will be out of...          0   \n4280  subject: re : january nominations at shell dee...          0   \n4075  subject: shut - in of meter 989842\\r\\nmeter 09...          0   \n...                                                 ...        ...   \n2962  subject: hpl noms for april 17 , 2001\\r\\n( see...          0   \n3734  subject: same day change - revision # 1 - hpl ...          0   \n2698  subject: june 1 st\\r\\n- - - - - - - - - - - - ...          0   \n4670  subject: resolved issue : re : meter # 0986563...          0   \n3044  subject: memo from steve schneider\\r\\nplease r...          0   \n\n                                                  words  \n5117  [subject:, revision, huntsville, /, woodlands,...  \n2561  [subject:, physical, gas, summary, by, desk, j...  \n981   [subject:, out, of, the, office, i, will, be, ...  \n4280  [subject:, re, :, january, nominations, at, sh...  \n4075  [subject:, shut, -, in, of, meter, 989842, met...  \n...                                                 ...  \n2962  [subject:, hpl, noms, for, april, 17, ,, 2001,...  \n3734  [subject:, same, day, change, -, revision, #, ...  \n2698  [subject:, june, 1, st, -, -, -, -, -, -, -, -...  \n4670  [subject:, resolved, issue, :, re, :, meter, #...  \n3044  [subject:, memo, from, steve, schneider, pleas...  \n\n[1000 rows x 3 columns]",
      "text/html": "<div>\n<style scoped>\n    .dataframe tbody tr th:only-of-type {\n        vertical-align: middle;\n    }\n\n    .dataframe tbody tr th {\n        vertical-align: top;\n    }\n\n    .dataframe thead th {\n        text-align: right;\n    }\n</style>\n<table border=\"1\" class=\"dataframe\">\n  <thead>\n    <tr style=\"text-align: right;\">\n      <th></th>\n      <th>email</th>\n      <th>label_num</th>\n      <th>words</th>\n    </tr>\n  </thead>\n  <tbody>\n    <tr>\n      <th>5117</th>\n      <td>subject: revision\\r\\nhuntsville / woodlands / ...</td>\n      <td>0</td>\n      <td>[subject:, revision, huntsville, /, woodlands,...</td>\n    </tr>\n    <tr>\n      <th>2561</th>\n      <td>subject: physical gas summary by desk\\r\\njeff ...</td>\n      <td>0</td>\n      <td>[subject:, physical, gas, summary, by, desk, j...</td>\n    </tr>\n    <tr>\n      <th>981</th>\n      <td>subject: out of the office\\r\\ni will be out of...</td>\n      <td>0</td>\n      <td>[subject:, out, of, the, office, i, will, be, ...</td>\n    </tr>\n    <tr>\n      <th>4280</th>\n      <td>subject: re : january nominations at shell dee...</td>\n      <td>0</td>\n      <td>[subject:, re, :, january, nominations, at, sh...</td>\n    </tr>\n    <tr>\n      <th>4075</th>\n      <td>subject: shut - in of meter 989842\\r\\nmeter 09...</td>\n      <td>0</td>\n      <td>[subject:, shut, -, in, of, meter, 989842, met...</td>\n    </tr>\n    <tr>\n      <th>...</th>\n      <td>...</td>\n      <td>...</td>\n      <td>...</td>\n    </tr>\n    <tr>\n      <th>2962</th>\n      <td>subject: hpl noms for april 17 , 2001\\r\\n( see...</td>\n      <td>0</td>\n      <td>[subject:, hpl, noms, for, april, 17, ,, 2001,...</td>\n    </tr>\n    <tr>\n      <th>3734</th>\n      <td>subject: same day change - revision # 1 - hpl ...</td>\n      <td>0</td>\n      <td>[subject:, same, day, change, -, revision, #, ...</td>\n    </tr>\n    <tr>\n      <th>2698</th>\n      <td>subject: june 1 st\\r\\n- - - - - - - - - - - - ...</td>\n      <td>0</td>\n      <td>[subject:, june, 1, st, -, -, -, -, -, -, -, -...</td>\n    </tr>\n    <tr>\n      <th>4670</th>\n      <td>subject: resolved issue : re : meter # 0986563...</td>\n      <td>0</td>\n      <td>[subject:, resolved, issue, :, re, :, meter, #...</td>\n    </tr>\n    <tr>\n      <th>3044</th>\n      <td>subject: memo from steve schneider\\r\\nplease r...</td>\n      <td>0</td>\n      <td>[subject:, memo, from, steve, schneider, pleas...</td>\n    </tr>\n  </tbody>\n</table>\n<p>1000 rows × 3 columns</p>\n</div>"
     },
     "metadata": {}
    }
   ]
  },
  {
   "cell_type": "code",
   "metadata": {
    "cell_id": "00033-87559853-dd86-42d5-a35e-5bc0a9203176",
    "deepnote_to_be_reexecuted": false,
    "source_hash": "fa3fdd5b",
    "execution_start": 1662072079255,
    "execution_millis": 8469,
    "deepnote_cell_type": "code",
    "deepnote_cell_height": 112
   },
   "source": "#getting the counts of when a word appeared at least once in an email\ncounter_hams = np.sum(hams_1000['words'].apply(appearance_to_counter))\ncounter_spams = np.sum(spams_1000['words'].apply(appearance_to_counter))",
   "execution_count": 15,
   "outputs": []
  },
  {
   "cell_type": "code",
   "source": "#finding the top differences in word appearance between ham and spam emails \nabs_differences = {key: np.abs(counter_hams.get(key, 0) - value) for key, value in counter_spams.items()}\nword_counts = pd.DataFrame.from_dict(abs_differences, orient='index')\nsorted_word_proportions = word_counts[0].sort_values(ascending = False)/1000 \n\n#going to use the top 40 highest proportion difference words\nwords_40 = sorted_word_proportions.head(40).index",
   "metadata": {
    "cell_id": "00034-46926a30-016b-4d91-8774-a586bd03c054",
    "deepnote_to_be_reexecuted": false,
    "source_hash": "a86571d0",
    "execution_start": 1662072087751,
    "execution_millis": 20,
    "deepnote_cell_type": "code",
    "deepnote_cell_height": 189
   },
   "execution_count": 16,
   "outputs": []
  },
  {
   "cell_type": "code",
   "source": "#Evaluate which words are the best \n#Chose L1 loss for feature selection\nX_train = words_in_texts(words_40, train['email'])\nY_train = np.array(train['label_num'])\n\nlr_words = LogisticRegression(penalty = 'l1', solver = 'saga')\nlr_words.fit(X_train, Y_train)\n\n#We want absolute weights because we are only interested in seeing the most important features\nabs_weights = np.abs(lr_words.coef_[0])\nfeature_weights = {feature:weight for feature, weight in zip(words_40, abs_weights)} ",
   "metadata": {
    "cell_id": "00035-06d6f262-e583-4282-bf08-c1a755d942f1",
    "deepnote_to_be_reexecuted": false,
    "source_hash": "9b5fcec9",
    "execution_start": 1662072087792,
    "execution_millis": 381,
    "deepnote_cell_type": "code",
    "deepnote_cell_height": 261
   },
   "execution_count": 17,
   "outputs": []
  },
  {
   "cell_type": "code",
   "source": "#evaluating the predictions:\npredictions = lr_words.predict(X_train)\ntrain_accuracy = sum(predictions == Y_train)/len(predictions) #0.9138826034872887\n\ntrain_accuracy",
   "metadata": {
    "cell_id": "00036-6f4cf886-318b-4031-9720-8d2140fbbaf1",
    "deepnote_to_be_reexecuted": false,
    "source_hash": "7b485e2d",
    "execution_start": 1662072088177,
    "execution_millis": 401,
    "deepnote_cell_type": "code",
    "deepnote_cell_height": 184.1875,
    "deepnote_output_heights": [
     20.1875
    ]
   },
   "execution_count": 18,
   "outputs": [
    {
     "output_type": "execute_result",
     "execution_count": 18,
     "data": {
      "text/plain": "0.9256393724478831"
     },
     "metadata": {}
    }
   ]
  },
  {
   "cell_type": "markdown",
   "source": "### Getting Rid of Correlated Features",
   "metadata": {
    "jp-MarkdownHeadingCollapsed": true,
    "tags": [],
    "cell_id": "00037-da127c23-978c-4a8f-a6a3-90a7334a670b",
    "deepnote_cell_type": "markdown",
    "deepnote_cell_height": 62
   }
  },
  {
   "cell_type": "code",
   "source": "#Out of curiousity to see which features are most important\n#sorting the dictionary by weight magnitude (decreasing order)\n\nvalues = list(feature_weights.values())\nvalues.sort(reverse = True)\nsorted_dict = {}\n\nfor value in values:\n    for k in feature_weights.keys():\n        if feature_weights[k] == value:\n            sorted_dict[k] = feature_weights[k]\n            break\n\n#note, this sorting method will lead to some of the 0s going away, but that's okay because we don't need the 0 weighted features\nlen(sorted_dict) ",
   "metadata": {
    "cell_id": "00038-8aa5aff1-811d-4310-9005-8c07e247e0d2",
    "deepnote_to_be_reexecuted": false,
    "source_hash": "b3e863de",
    "execution_start": 1662072088207,
    "execution_millis": 375,
    "deepnote_cell_type": "code",
    "deepnote_cell_height": 369.1875,
    "deepnote_output_heights": [
     20.1875
    ]
   },
   "execution_count": 19,
   "outputs": [
    {
     "output_type": "execute_result",
     "execution_count": 19,
     "data": {
      "text/plain": "38"
     },
     "metadata": {}
    }
   ]
  },
  {
   "cell_type": "code",
   "source": "feature_df = pd.DataFrame(data = X_train, columns = words_40) #checking corr. using the training set!\n\ndef remove_correlated(feature_data, corr_threshold = 0.9):\n    \"\"\"Removes highly correlated features (and chooses one of them) for the correlation matrix. Returns an updated correlation matrix.\"\"\"\n    #you just need to check the bottom half (triangle) of the corr matrix; the rest are repeats. Can ignore the 1s diagnal as well\n    corr_features = set()\n    corr_matrix = feature_data.corr()\n    \n    for row in range(len(corr_matrix.columns)):\n        for col in range(row):\n            if np.abs(corr_matrix.iloc[row, col]) > corr_threshold: #if this is true, remove one feature\n                column = corr_matrix.columns[row]\n                corr_features.add(column) #this already won't add duplicates; and since we are just adding from one axis, it won't get rid of both correlated features\n                #another way to do this would be to drop columns... but thats complicated bc we are iterating on a fixed number of rows which = columns etc.\n    return feature_data.drop(labels = corr_features, axis = 1)\n\nfiltered_df = remove_correlated(feature_df)\nfiltered_df.shape #looks like it removed 11 features!\n\n#We see that the heatmap is pretty messy; so lets clean up the dataframe with filtering using the correlation matrix\n#sns.heatmap(feature_df.corr()) #this is what it was before; there are a lot of light spots/white which indicates high correlation (according to the legend)\nsns.heatmap(filtered_df.corr()); #this is how it looks like after removing correlations > 0.9!\n\n#Note, this graph will also be shown in 2a",
   "metadata": {
    "cell_id": "00039-857bdcf2-285f-452e-803e-d9d46d71c892",
    "deepnote_to_be_reexecuted": false,
    "source_hash": "41cbd927",
    "execution_start": 1662072088224,
    "execution_millis": 551,
    "deepnote_cell_type": "code",
    "deepnote_cell_height": 844,
    "deepnote_output_heights": [
     333
    ]
   },
   "execution_count": 20,
   "outputs": [
    {
     "data": {
      "text/plain": "<Figure size 432x288 with 2 Axes>",
      "image/png": "[encoded data removed]"
     },
     "metadata": {
      "image/png": {
       "width": 438,
       "height": 332
      }
     },
     "output_type": "display_data"
    }
   ]
  },
  {
   "cell_type": "code",
   "source": "#creating a new model after removing highly correlated features\nX_train = filtered_df.values\n\nlr_words_improved = LogisticRegression(penalty = 'l1', solver = 'saga')\nlr_words_improved.fit(X_train, Y_train)",
   "metadata": {
    "cell_id": "00040-f04598c5-7fb4-4c96-82b3-2c31280e0dfd",
    "deepnote_to_be_reexecuted": false,
    "source_hash": "672bddda",
    "execution_start": 1662072088783,
    "execution_millis": 232,
    "deepnote_cell_type": "code",
    "deepnote_cell_height": 223.375,
    "deepnote_output_heights": [
     59.375
    ]
   },
   "execution_count": 21,
   "outputs": [
    {
     "output_type": "execute_result",
     "execution_count": 21,
     "data": {
      "text/plain": "LogisticRegression(penalty='l1', solver='saga')",
      "text/html": "<style>#sk-container-id-1 {color: black;background-color: white;}#sk-container-id-1 pre{padding: 0;}#sk-container-id-1 div.sk-toggleable {background-color: white;}#sk-container-id-1 label.sk-toggleable__label {cursor: pointer;display: block;width: 100%;margin-bottom: 0;padding: 0.3em;box-sizing: border-box;text-align: center;}#sk-container-id-1 label.sk-toggleable__label-arrow:before {content: \"▸\";float: left;margin-right: 0.25em;color: #696969;}#sk-container-id-1 label.sk-toggleable__label-arrow:hover:before {color: black;}#sk-container-id-1 div.sk-estimator:hover label.sk-toggleable__label-arrow:before {color: black;}#sk-container-id-1 div.sk-toggleable__content {max-height: 0;max-width: 0;overflow: hidden;text-align: left;background-color: #f0f8ff;}#sk-container-id-1 div.sk-toggleable__content pre {margin: 0.2em;color: black;border-radius: 0.25em;background-color: #f0f8ff;}#sk-container-id-1 input.sk-toggleable__control:checked~div.sk-toggleable__content {max-height: 200px;max-width: 100%;overflow: auto;}#sk-container-id-1 input.sk-toggleable__control:checked~label.sk-toggleable__label-arrow:before {content: \"▾\";}#sk-container-id-1 div.sk-estimator input.sk-toggleable__control:checked~label.sk-toggleable__label {background-color: #d4ebff;}#sk-container-id-1 div.sk-label input.sk-toggleable__control:checked~label.sk-toggleable__label {background-color: #d4ebff;}#sk-container-id-1 input.sk-hidden--visually {border: 0;clip: rect(1px 1px 1px 1px);clip: rect(1px, 1px, 1px, 1px);height: 1px;margin: -1px;overflow: hidden;padding: 0;position: absolute;width: 1px;}#sk-container-id-1 div.sk-estimator {font-family: monospace;background-color: #f0f8ff;border: 1px dotted black;border-radius: 0.25em;box-sizing: border-box;margin-bottom: 0.5em;}#sk-container-id-1 div.sk-estimator:hover {background-color: #d4ebff;}#sk-container-id-1 div.sk-parallel-item::after {content: \"\";width: 100%;border-bottom: 1px solid gray;flex-grow: 1;}#sk-container-id-1 div.sk-label:hover label.sk-toggleable__label {background-color: #d4ebff;}#sk-container-id-1 div.sk-serial::before {content: \"\";position: absolute;border-left: 1px solid gray;box-sizing: border-box;top: 0;bottom: 0;left: 50%;z-index: 0;}#sk-container-id-1 div.sk-serial {display: flex;flex-direction: column;align-items: center;background-color: white;padding-right: 0.2em;padding-left: 0.2em;position: relative;}#sk-container-id-1 div.sk-item {position: relative;z-index: 1;}#sk-container-id-1 div.sk-parallel {display: flex;align-items: stretch;justify-content: center;background-color: white;position: relative;}#sk-container-id-1 div.sk-item::before, #sk-container-id-1 div.sk-parallel-item::before {content: \"\";position: absolute;border-left: 1px solid gray;box-sizing: border-box;top: 0;bottom: 0;left: 50%;z-index: -1;}#sk-container-id-1 div.sk-parallel-item {display: flex;flex-direction: column;z-index: 1;position: relative;background-color: white;}#sk-container-id-1 div.sk-parallel-item:first-child::after {align-self: flex-end;width: 50%;}#sk-container-id-1 div.sk-parallel-item:last-child::after {align-self: flex-start;width: 50%;}#sk-container-id-1 div.sk-parallel-item:only-child::after {width: 0;}#sk-container-id-1 div.sk-dashed-wrapped {border: 1px dashed gray;margin: 0 0.4em 0.5em 0.4em;box-sizing: border-box;padding-bottom: 0.4em;background-color: white;}#sk-container-id-1 div.sk-label label {font-family: monospace;font-weight: bold;display: inline-block;line-height: 1.2em;}#sk-container-id-1 div.sk-label-container {text-align: center;}#sk-container-id-1 div.sk-container {/* jupyter's `normalize.less` sets `[hidden] { display: none; }` but bootstrap.min.css set `[hidden] { display: none !important; }` so we also need the `!important` here to be able to override the default hidden behavior on the sphinx rendered scikit-learn.org. See: https://github.com/scikit-learn/scikit-learn/issues/21755 */display: inline-block !important;position: relative;}#sk-container-id-1 div.sk-text-repr-fallback {display: none;}</style><div id=\"sk-container-id-1\" class=\"sk-top-container\"><div class=\"sk-text-repr-fallback\"><pre>LogisticRegression(penalty=&#x27;l1&#x27;, solver=&#x27;saga&#x27;)</pre><b>In a Jupyter environment, please rerun this cell to show the HTML representation or trust the notebook. <br />On GitHub, the HTML representation is unable to render, please try loading this page with nbviewer.org.</b></div><div class=\"sk-container\" hidden><div class=\"sk-item\"><div class=\"sk-estimator sk-toggleable\"><input class=\"sk-toggleable__control sk-hidden--visually\" id=\"sk-estimator-id-1\" type=\"checkbox\" checked><label for=\"sk-estimator-id-1\" class=\"sk-toggleable__label sk-toggleable__label-arrow\">LogisticRegression</label><div class=\"sk-toggleable__content\"><pre>LogisticRegression(penalty=&#x27;l1&#x27;, solver=&#x27;saga&#x27;)</pre></div></div></div></div></div>"
     },
     "metadata": {}
    }
   ]
  },
  {
   "cell_type": "code",
   "source": "#evaluating the predictions:\npredictions = lr_words_improved.predict(X_train)\ntrain_accuracy = sum(predictions == Y_train)/len(predictions) #0.9138826034872887\n\ntrain_accuracy",
   "metadata": {
    "cell_id": "00041-e60407ff-15c3-4310-9b90-614063e8ca7c",
    "deepnote_to_be_reexecuted": false,
    "source_hash": "9d10e97d",
    "execution_start": 1662072089019,
    "execution_millis": 12,
    "deepnote_cell_type": "code",
    "deepnote_cell_height": 184.1875,
    "deepnote_output_heights": [
     20.1875
    ]
   },
   "execution_count": 22,
   "outputs": [
    {
     "output_type": "execute_result",
     "execution_count": 22,
     "data": {
      "text/plain": "0.9256393724478831"
     },
     "metadata": {}
    }
   ]
  },
  {
   "cell_type": "markdown",
   "source": "### K-Fold Cross Validation\nWe are using this method since only using the given sets above to choose a hyperparameter led to likely a bias towards the given validation set (which ended up worsening my testing accuracy). We are choosing K = 10. ",
   "metadata": {
    "tags": [],
    "cell_id": "00045-e9e7a182-f2ff-4199-8ea4-ffad4ff00239",
    "deepnote_cell_type": "markdown",
    "deepnote_cell_height": 145.1875
   }
  },
  {
   "cell_type": "code",
   "metadata": {
    "cell_id": "00046-7c5126b1-2ce7-443c-bfa1-b76b37f66e38",
    "deepnote_to_be_reexecuted": false,
    "source_hash": "b96f44c5",
    "execution_start": 1662072089036,
    "execution_millis": 7,
    "deepnote_cell_type": "code",
    "deepnote_cell_height": 76
   },
   "source": "from sklearn.model_selection import KFold",
   "execution_count": 23,
   "outputs": []
  },
  {
   "cell_type": "markdown",
   "source": "We'll be using this function to output our model as well as its performance.",
   "metadata": {
    "is_collapsed": false,
    "cell_id": "ac0c80c04ddf4c32829c69daca2ccefa",
    "tags": [],
    "formattedRanges": [],
    "deepnote_cell_type": "text-cell-p"
   }
  },
  {
   "cell_type": "code",
   "source": "def make_model(X_train, X_val, Y_train, Y_val, non_word_features = None):\n    \"\"\"For the given correlation coefficient threshold (when to determine when to remove redundant/correlated features), return\n        validation set accuracy, the model created, and the features of used in that model, in that order.\"\"\"\n    \n    if non_word_features:\n        df_X = pd.DataFrame(data = X_train)\n        df_X = df_X.join(non_word_features, left_on = True, right_on = True)\n        X_train = df_X.values\n    \n    lr_model_1 = LogisticRegression(penalty = 'l1', solver = 'saga', max_iter=500)\n    lr_model_1.fit(X_train, Y_train)\n    \n    predictions = lr_model_1.predict(X_val) #0.9054\n    val_accuracy = sum(predictions == Y_val)/len(predictions)\n\n    return val_accuracy, lr_model_1, filtered.columns",
   "metadata": {
    "cell_id": "8f7c999792d2498f91a4f25e38055df2",
    "tags": [],
    "deepnote_to_be_reexecuted": false,
    "source_hash": "887b201a",
    "execution_start": 1662072140682,
    "execution_millis": 3,
    "deepnote_cell_type": "code",
    "deepnote_cell_height": 351
   },
   "outputs": [],
   "execution_count": 25
  },
  {
   "cell_type": "markdown",
   "source": "Example usage:",
   "metadata": {
    "is_collapsed": false,
    "cell_id": "2a755e8800f547269b6c53bff4f32379",
    "tags": [],
    "formattedRanges": [],
    "deepnote_cell_type": "text-cell-p"
   }
  },
  {
   "cell_type": "code",
   "source": "best_acc = 0\nbest_threshold = -1\ncorr_thresholds = np.linspace(0.8, 1, num = 21)\n\n#using an example validation set to show functionality -- this won't be what is \n#actually used in tuning hyperparams\nval, _ = train_test_split(test, test_size = 0.5, random_state = 42)\n\nY_val = val['label_num']\n\nfor threshold in corr_thresholds:\n    filtered = remove_correlated(feature_df, corr_threshold = threshold)\n    X_train = filtered.values\n    X_val = words_in_texts(filtered.columns, val['email'])\n    \n    curr_acc, curr_model, curr_features = make_model(X_train, X_val, Y_train, Y_val) \n    \n    if curr_acc > best_acc:\n        best_threshold = threshold\n        best_acc = curr_acc\n        best_model = curr_model\n        best_features = curr_features",
   "metadata": {
    "cell_id": "3249bb40c2874b81a00d8910bd253b6d",
    "tags": [],
    "deepnote_to_be_reexecuted": false,
    "source_hash": "6a0a276f",
    "execution_start": 1662072141887,
    "execution_millis": 7811,
    "deepnote_cell_type": "code",
    "deepnote_cell_height": 459
   },
   "outputs": [],
   "execution_count": 26
  },
  {
   "cell_type": "code",
   "source": "best_acc, best_threshold",
   "metadata": {
    "cell_id": "c70a322323c64d94933469e114dab359",
    "tags": [],
    "deepnote_to_be_reexecuted": false,
    "source_hash": "8d5ceb13",
    "execution_start": 1662072149710,
    "execution_millis": 14,
    "deepnote_cell_type": "code",
    "deepnote_cell_height": 112.1875,
    "deepnote_output_heights": [
     20.1875
    ]
   },
   "outputs": [
    {
     "output_type": "execute_result",
     "execution_count": 27,
     "data": {
      "text/plain": "(0.9073359073359073, 0.8)"
     },
     "metadata": {}
    }
   ],
   "execution_count": 27
  },
  {
   "cell_type": "code",
   "source": "#steps: remove correlated features according to a threshold, then get the X_train, X_val. Train a model using X_train and check the accuracy of X_val, then store that\n#for the k-fold validation, get the average accuracies of the 5 folds (we choose k = 5) at each hyperparam (0.8 -- 1 linspace 20?)  \n#we will still use words_40 as the initial starting features even though during this K-fold cross validation, the training and validation sets change\n#this is because the process of choosing the 40 words is quite intensive, and will likely be similar across all sets. \n\ndef average_of_k_folds(corr_threshold, data = original_data, k = 10):\n    \"\"\"Perform K_fold cross validation for the given corr_threshold\"\"\"\n    \n    kf = KFold(n_splits = k, shuffle = True, random_state = 42)\n    accuracies = []\n    \n    X = words_in_texts(words_40, original_data['email'])\n    Y = original_data['label_num']\n    \n    \n    for train_index, val_index in kf.split(X):\n        #print(\"TRAIN:\", train_index, \"TEST:\", val_index)\n        X_train, X_val = X[train_index], X[val_index]\n        Y_train, Y_val = Y[train_index], Y[val_index]\n        \n        #have to have this in a dataframe first because we will be removing highly correlated features based on the training set\n        feature_train_df = pd.DataFrame(data = X_train, columns = words_40)\n        feature_val_df = pd.DataFrame(data = X_val, columns = words_40)\n        \n        filtered = remove_correlated(feature_train_df, corr_threshold = corr_threshold)\n        X_train = filtered.values\n        X_val = feature_val_df.loc[:, filtered.columns].values\n        \n        curr_acc = make_model(X_train, X_val, Y_train, Y_val)[0] #in this case we aren't really using the other outputs for now\n        \n        accuracies.append(curr_acc)\n    \n    return np.mean(accuracies)",
   "metadata": {
    "cell_id": "00047-c71363f7-25a2-46a0-817b-8cfa70e9c418",
    "deepnote_to_be_reexecuted": false,
    "source_hash": "6c66b5f2",
    "execution_start": 1662072649211,
    "execution_millis": 6,
    "deepnote_cell_type": "code",
    "deepnote_cell_height": 657,
    "deepnote_output_heights": [
     20.1875
    ]
   },
   "execution_count": 52,
   "outputs": []
  },
  {
   "cell_type": "code",
   "source": "#Time to cross validate! Give the best corr_threshold value based on validation set accuracy\n\nfor threshold in corr_thresholds:\n    curr_acc = average_of_k_folds(corr_threshold = threshold)\n    \n    if curr_acc > best_acc:\n        best_acc = curr_acc\n        best_threshold = threshold\n        ",
   "metadata": {
    "cell_id": "00048-ce3d7fd2-be16-4973-b814-f7d739e5a3d6",
    "deepnote_to_be_reexecuted": false,
    "source_hash": "2ead5b61",
    "execution_start": 1662072153636,
    "execution_millis": 81987,
    "deepnote_cell_type": "code",
    "deepnote_cell_height": 225
   },
   "execution_count": 29,
   "outputs": []
  },
  {
   "cell_type": "code",
   "metadata": {
    "cell_id": "00049-8a9397d3-7187-4d09-8d2e-e8076206ed35",
    "deepnote_to_be_reexecuted": false,
    "source_hash": "7e02c286",
    "execution_start": 1662072235667,
    "execution_millis": 3,
    "deepnote_cell_type": "code",
    "deepnote_cell_height": 112.1875,
    "deepnote_output_heights": [
     20.1875
    ]
   },
   "source": "best_threshold",
   "execution_count": 30,
   "outputs": [
    {
     "output_type": "execute_result",
     "execution_count": 30,
     "data": {
      "text/plain": "0.8"
     },
     "metadata": {}
    }
   ]
  },
  {
   "cell_type": "markdown",
   "source": "Looks like the best threshold was the lower bound of our initial guess of \"optimal thresholds\"! Let's try lower.",
   "metadata": {
    "is_collapsed": false,
    "cell_id": "868ea6079ecf41bab222aa9b0896996f",
    "tags": [],
    "formattedRanges": [],
    "deepnote_cell_type": "text-cell-p"
   }
  },
  {
   "cell_type": "code",
   "source": "corr_thresholds_2 = np.linspace(0.7, 0.8, num = 11)\n\n#Time to cross validate! Give the best corr_threshold value based on validation set accuracy\n\nfor threshold in corr_thresholds_2:\n    curr_acc = average_of_k_folds(corr_threshold = threshold)\n    \n    if curr_acc > best_acc:\n        best_acc = curr_acc\n        best_threshold = threshold",
   "metadata": {
    "cell_id": "2e487830eb1d4087a97336c9aa52b61b",
    "tags": [],
    "deepnote_to_be_reexecuted": false,
    "source_hash": "9afb188c",
    "execution_start": 1662072340446,
    "execution_millis": 44536,
    "deepnote_cell_type": "code",
    "deepnote_cell_height": 243
   },
   "outputs": [],
   "execution_count": 32
  },
  {
   "cell_type": "code",
   "source": "best_acc, best_threshold",
   "metadata": {
    "cell_id": "a8ca785d717a4d0592b78b3843af6370",
    "tags": [],
    "deepnote_to_be_reexecuted": false,
    "source_hash": "8d5ceb13",
    "execution_start": 1662072425646,
    "execution_millis": 7,
    "deepnote_cell_type": "code",
    "deepnote_cell_height": 112.1875,
    "deepnote_output_heights": [
     20.1875
    ]
   },
   "outputs": [
    {
     "output_type": "execute_result",
     "execution_count": 34,
     "data": {
      "text/plain": "(0.921679125934445, 0.8)"
     },
     "metadata": {}
    }
   ],
   "execution_count": 34
  },
  {
   "cell_type": "markdown",
   "source": "Looks like 0.8 was the best correlation cutoff across all cross validation averages!",
   "metadata": {
    "is_collapsed": false,
    "cell_id": "81142d9f0ce1450da9e32c2bac71198f",
    "tags": [],
    "formattedRanges": [],
    "deepnote_cell_type": "text-cell-p"
   }
  },
  {
   "cell_type": "markdown",
   "source": "### Features Besides Just Words\nIncluded this just to show my process; however, choosing features besides words did not bear any fruit for me. As a result, none of the features below were used in the final model (except the \"\\<html\\>\" tag, which is in the words list above.",
   "metadata": {
    "tags": [],
    "cell_id": "00051-af522f1a-f390-4c63-b0f4-dde23adc85ac",
    "deepnote_cell_type": "markdown",
    "deepnote_cell_height": 145.1875
   }
  },
  {
   "cell_type": "code",
   "source": "#add features\n\nfor df in [train, val]:\n    df['email_length']  = df['email'].str.len()\n    non_alphanumeric = df['email'].str.lower().str.extractall(r\"([^a-z0-9\\s]+)\")\n    df['non_alphanumeric count'] = non_alphanumeric.reset_index().groupby('level_0')[0].count()\n    df['is_reply?'] = df['email'].str.lower().str.contains(\"subject: re:\").astype(int)\n    df['has_html'] = df['email'].str.lower().str.contains(r\"<html>\").astype(int)\n    exclamations = df['email'].str.lower().str.extractall(r\"(!)\")\n    df['num_!'] = exclamations.reset_index().groupby('level_0')[0].count()\n    \n    questions = df['email'].str.lower().str.extractall(r\"(\\?)\")\n    df['num_?'] = questions.reset_index().groupby('level_0')[0].count()\n    \ntrain = train.fillna(0)\nval = val.fillna(0)",
   "metadata": {
    "cell_id": "00052-69bd89d7-4ae5-4814-814a-61757ba18eed",
    "deepnote_to_be_reexecuted": false,
    "source_hash": "fd023b9c",
    "execution_start": 1662072505739,
    "execution_millis": 1177,
    "deepnote_cell_type": "code",
    "deepnote_cell_height": 351
   },
   "execution_count": 36,
   "outputs": []
  },
  {
   "cell_type": "code",
   "metadata": {
    "cell_id": "00053-f0fe4969-a770-4f6b-ae57-2a55dda2efcf",
    "deepnote_to_be_reexecuted": false,
    "source_hash": "70ee4fa7",
    "execution_start": 1662072508861,
    "execution_millis": 8,
    "deepnote_cell_type": "code",
    "deepnote_cell_height": 130.1875,
    "deepnote_output_heights": [
     20.1875
    ]
   },
   "source": "features = train.columns[4:]\nfeatures",
   "execution_count": 37,
   "outputs": [
    {
     "output_type": "execute_result",
     "execution_count": 37,
     "data": {
      "text/plain": "Index(['is_reply?', 'has_html', 'num_!', 'num_?'], dtype='object')"
     },
     "metadata": {}
    }
   ]
  },
  {
   "cell_type": "code",
   "metadata": {
    "cell_id": "00055-90acecf3-38ee-4058-bf15-fdd5e13cdb87",
    "deepnote_to_be_reexecuted": false,
    "source_hash": "fc42a7ba",
    "execution_start": 1662072509615,
    "execution_millis": 605,
    "deepnote_cell_type": "code",
    "deepnote_cell_height": 112.1875,
    "deepnote_output_heights": [
     20.1875
    ]
   },
   "source": "len(features)",
   "execution_count": 38,
   "outputs": [
    {
     "output_type": "execute_result",
     "execution_count": 38,
     "data": {
      "text/plain": "4"
     },
     "metadata": {}
    }
   ]
  },
  {
   "cell_type": "code",
   "source": "#based on the dt it seems pretty good but lets try something else \nvalidation_accuracies = []\n\nfor i in range(len(features)):\n    X_train = train[[features[i]]]\n    y_train = train['label_num']\n\n    X_val = val[[features[i]]]\n    y_val = val['label_num']\n\n    log_model = LogisticRegression(random_state = 42) \n    log_model.fit(X_train, y_train)\n    predictions = log_model.predict(X_val)\n    num_corr = sum(predictions == y_val)\n    validation_accuracies.append(num_corr/len(y_val))\n    \nvalidation_accuracies\n#out of all the singular features, the 'has_html' one leads to the best accuracy improvement of 0.8311 validation accuracy\n#also note that checking for html worked better than just getting all <>\n#the rest still don't seem to work\n#as a result, this has led to me to just take a look at word content and use that",
   "metadata": {
    "cell_id": "00056-4cb4d1cc-1e95-41b5-affd-1df1729c1f83",
    "deepnote_to_be_reexecuted": false,
    "source_hash": "3ba13610",
    "execution_start": 1662072509723,
    "execution_millis": 885,
    "deepnote_cell_type": "code",
    "deepnote_cell_height": 573,
    "deepnote_output_heights": [
     77.78125
    ]
   },
   "execution_count": 39,
   "outputs": [
    {
     "output_type": "execute_result",
     "execution_count": 39,
     "data": {
      "text/plain": "[0.7142857142857143,\n 0.7142857142857143,\n 0.7451737451737451,\n 0.7142857142857143]"
     },
     "metadata": {}
    }
   ]
  },
  {
   "cell_type": "code",
   "metadata": {
    "cell_id": "00057-5117d7dd-6b44-472a-bb9e-cc414c3ae57e",
    "deepnote_to_be_reexecuted": false,
    "source_hash": "a2ac4a2e",
    "execution_start": 1662072509811,
    "execution_millis": 799,
    "deepnote_cell_type": "code",
    "deepnote_cell_height": 202.1875,
    "deepnote_output_heights": [
     20.1875
    ]
   },
   "source": "#Looking at the accuracy for guessing all 0s on the validation set\nall_0s_correct = sum(0 == y_val)\n\nprop_0 = all_0s_correct/len(y_val)\n\nprop_0",
   "execution_count": 40,
   "outputs": [
    {
     "output_type": "execute_result",
     "execution_count": 40,
     "data": {
      "text/plain": "0.7142857142857143"
     },
     "metadata": {}
    }
   ]
  },
  {
   "cell_type": "markdown",
   "source": "### The Final Model\nThis is what will be used for the test set predictions.",
   "metadata": {
    "tags": [],
    "cell_id": "00058-f0ce5626-b183-4f40-8cd8-fdd709260b98",
    "deepnote_cell_type": "markdown",
    "deepnote_cell_height": 100.390625
   }
  },
  {
   "cell_type": "code",
   "source": "feature_df.head()",
   "metadata": {
    "cell_id": "00059-03c39ea1-40fd-4a9f-be36-cebe1b5c53c6",
    "deepnote_to_be_reexecuted": false,
    "source_hash": "84514426",
    "execution_start": 1662072509814,
    "execution_millis": 799,
    "deepnote_cell_type": "code",
    "deepnote_cell_height": 390,
    "deepnote_output_heights": [
     207.1875
    ]
   },
   "execution_count": 41,
   "outputs": [
    {
     "output_type": "execute_result",
     "execution_count": 41,
     "data": {
      "application/vnd.deepnote.dataframe.v3+json": {
       "column_count": 40,
       "row_count": 5,
       "columns": [
        {
         "name": "!",
         "dtype": "int64",
         "stats": {
          "unique_count": 2,
          "nan_count": 0,
          "min": "0",
          "max": "1",
          "histogram": [
           {
            "bin_start": 0,
            "bin_end": 0.1,
            "count": 4
           },
           {
            "bin_start": 0.1,
            "bin_end": 0.2,
            "count": 0
           },
           {
            "bin_start": 0.2,
            "bin_end": 0.30000000000000004,
            "count": 0
           },
           {
            "bin_start": 0.30000000000000004,
            "bin_end": 0.4,
            "count": 0
           },
           {
            "bin_start": 0.4,
            "bin_end": 0.5,
            "count": 0
           },
           {
            "bin_start": 0.5,
            "bin_end": 0.6000000000000001,
            "count": 0
           },
           {
            "bin_start": 0.6000000000000001,
            "bin_end": 0.7000000000000001,
            "count": 0
           },
           {
            "bin_start": 0.7000000000000001,
            "bin_end": 0.8,
            "count": 0
           },
           {
            "bin_start": 0.8,
            "bin_end": 0.9,
            "count": 0
           },
           {
            "bin_start": 0.9,
            "bin_end": 1,
            "count": 1
           }
          ]
         }
        },
        {
         "name": "2000",
         "dtype": "int64",
         "stats": {
          "unique_count": 2,
          "nan_count": 0,
          "min": "0",
          "max": "1",
          "histogram": [
           {
            "bin_start": 0,
            "bin_end": 0.1,
            "count": 2
           },
           {
            "bin_start": 0.1,
            "bin_end": 0.2,
            "count": 0
           },
           {
            "bin_start": 0.2,
            "bin_end": 0.30000000000000004,
            "count": 0
           },
           {
            "bin_start": 0.30000000000000004,
            "bin_end": 0.4,
            "count": 0
           },
           {
            "bin_start": 0.4,
            "bin_end": 0.5,
            "count": 0
           },
           {
            "bin_start": 0.5,
            "bin_end": 0.6000000000000001,
            "count": 0
           },
           {
            "bin_start": 0.6000000000000001,
            "bin_end": 0.7000000000000001,
            "count": 0
           },
           {
            "bin_start": 0.7000000000000001,
            "bin_end": 0.8,
            "count": 0
           },
           {
            "bin_start": 0.8,
            "bin_end": 0.9,
            "count": 0
           },
           {
            "bin_start": 0.9,
            "bin_end": 1,
            "count": 3
           }
          ]
         }
        },
        {
         "name": "cc",
         "dtype": "int64",
         "stats": {
          "unique_count": 2,
          "nan_count": 0,
          "min": "0",
          "max": "1",
          "histogram": [
           {
            "bin_start": 0,
            "bin_end": 0.1,
            "count": 3
           },
           {
            "bin_start": 0.1,
            "bin_end": 0.2,
            "count": 0
           },
           {
            "bin_start": 0.2,
            "bin_end": 0.30000000000000004,
            "count": 0
           },
           {
            "bin_start": 0.30000000000000004,
            "bin_end": 0.4,
            "count": 0
           },
           {
            "bin_start": 0.4,
            "bin_end": 0.5,
            "count": 0
           },
           {
            "bin_start": 0.5,
            "bin_end": 0.6000000000000001,
            "count": 0
           },
           {
            "bin_start": 0.6000000000000001,
            "bin_end": 0.7000000000000001,
            "count": 0
           },
           {
            "bin_start": 0.7000000000000001,
            "bin_end": 0.8,
            "count": 0
           },
           {
            "bin_start": 0.8,
            "bin_end": 0.9,
            "count": 0
           },
           {
            "bin_start": 0.9,
            "bin_end": 1,
            "count": 2
           }
          ]
         }
        },
        {
         "name": "thanks",
         "dtype": "int64",
         "stats": {
          "unique_count": 2,
          "nan_count": 0,
          "min": "0",
          "max": "1",
          "histogram": [
           {
            "bin_start": 0,
            "bin_end": 0.1,
            "count": 4
           },
           {
            "bin_start": 0.1,
            "bin_end": 0.2,
            "count": 0
           },
           {
            "bin_start": 0.2,
            "bin_end": 0.30000000000000004,
            "count": 0
           },
           {
            "bin_start": 0.30000000000000004,
            "bin_end": 0.4,
            "count": 0
           },
           {
            "bin_start": 0.4,
            "bin_end": 0.5,
            "count": 0
           },
           {
            "bin_start": 0.5,
            "bin_end": 0.6000000000000001,
            "count": 0
           },
           {
            "bin_start": 0.6000000000000001,
            "bin_end": 0.7000000000000001,
            "count": 0
           },
           {
            "bin_start": 0.7000000000000001,
            "bin_end": 0.8,
            "count": 0
           },
           {
            "bin_start": 0.8,
            "bin_end": 0.9,
            "count": 0
           },
           {
            "bin_start": 0.9,
            "bin_end": 1,
            "count": 1
           }
          ]
         }
        },
        {
         "name": "your",
         "dtype": "int64",
         "stats": {
          "unique_count": 2,
          "nan_count": 0,
          "min": "0",
          "max": "1",
          "histogram": [
           {
            "bin_start": 0,
            "bin_end": 0.1,
            "count": 3
           },
           {
            "bin_start": 0.1,
            "bin_end": 0.2,
            "count": 0
           },
           {
            "bin_start": 0.2,
            "bin_end": 0.30000000000000004,
            "count": 0
           },
           {
            "bin_start": 0.30000000000000004,
            "bin_end": 0.4,
            "count": 0
           },
           {
            "bin_start": 0.4,
            "bin_end": 0.5,
            "count": 0
           },
           {
            "bin_start": 0.5,
            "bin_end": 0.6000000000000001,
            "count": 0
           },
           {
            "bin_start": 0.6000000000000001,
            "bin_end": 0.7000000000000001,
            "count": 0
           },
           {
            "bin_start": 0.7000000000000001,
            "bin_end": 0.8,
            "count": 0
           },
           {
            "bin_start": 0.8,
            "bin_end": 0.9,
            "count": 0
           },
           {
            "bin_start": 0.9,
            "bin_end": 1,
            "count": 2
           }
          ]
         }
        },
        {
         "name": "gas",
         "dtype": "int64",
         "stats": {
          "unique_count": 2,
          "nan_count": 0,
          "min": "0",
          "max": "1",
          "histogram": [
           {
            "bin_start": 0,
            "bin_end": 0.1,
            "count": 3
           },
           {
            "bin_start": 0.1,
            "bin_end": 0.2,
            "count": 0
           },
           {
            "bin_start": 0.2,
            "bin_end": 0.30000000000000004,
            "count": 0
           },
           {
            "bin_start": 0.30000000000000004,
            "bin_end": 0.4,
            "count": 0
           },
           {
            "bin_start": 0.4,
            "bin_end": 0.5,
            "count": 0
           },
           {
            "bin_start": 0.5,
            "bin_end": 0.6000000000000001,
            "count": 0
           },
           {
            "bin_start": 0.6000000000000001,
            "bin_end": 0.7000000000000001,
            "count": 0
           },
           {
            "bin_start": 0.7000000000000001,
            "bin_end": 0.8,
            "count": 0
           },
           {
            "bin_start": 0.8,
            "bin_end": 0.9,
            "count": 0
           },
           {
            "bin_start": 0.9,
            "bin_end": 1,
            "count": 2
           }
          ]
         }
        },
        {
         "name": "http",
         "dtype": "int64",
         "stats": {
          "unique_count": 2,
          "nan_count": 0,
          "min": "0",
          "max": "1",
          "histogram": [
           {
            "bin_start": 0,
            "bin_end": 0.1,
            "count": 4
           },
           {
            "bin_start": 0.1,
            "bin_end": 0.2,
            "count": 0
           },
           {
            "bin_start": 0.2,
            "bin_end": 0.30000000000000004,
            "count": 0
           },
           {
            "bin_start": 0.30000000000000004,
            "bin_end": 0.4,
            "count": 0
           },
           {
            "bin_start": 0.4,
            "bin_end": 0.5,
            "count": 0
           },
           {
            "bin_start": 0.5,
            "bin_end": 0.6000000000000001,
            "count": 0
           },
           {
            "bin_start": 0.6000000000000001,
            "bin_end": 0.7000000000000001,
            "count": 0
           },
           {
            "bin_start": 0.7000000000000001,
            "bin_end": 0.8,
            "count": 0
           },
           {
            "bin_start": 0.8,
            "bin_end": 0.9,
            "count": 0
           },
           {
            "bin_start": 0.9,
            "bin_end": 1,
            "count": 1
           }
          ]
         }
        },
        {
         "name": "subject",
         "dtype": "int64",
         "stats": {
          "unique_count": 1,
          "nan_count": 0,
          "min": "1",
          "max": "1",
          "histogram": [
           {
            "bin_start": 0.5,
            "bin_end": 0.6,
            "count": 0
           },
           {
            "bin_start": 0.6,
            "bin_end": 0.7,
            "count": 0
           },
           {
            "bin_start": 0.7,
            "bin_end": 0.8,
            "count": 0
           },
           {
            "bin_start": 0.8,
            "bin_end": 0.9,
            "count": 0
           },
           {
            "bin_start": 0.9,
            "bin_end": 1,
            "count": 0
           },
           {
            "bin_start": 1,
            "bin_end": 1.1,
            "count": 5
           },
           {
            "bin_start": 1.1,
            "bin_end": 1.2000000000000002,
            "count": 0
           },
           {
            "bin_start": 1.2000000000000002,
            "bin_end": 1.3,
            "count": 0
           },
           {
            "bin_start": 1.3,
            "bin_end": 1.4,
            "count": 0
           },
           {
            "bin_start": 1.4,
            "bin_end": 1.5,
            "count": 0
           }
          ]
         }
        },
        {
         "name": "pm",
         "dtype": "int64",
         "stats": {
          "unique_count": 2,
          "nan_count": 0,
          "min": "0",
          "max": "1",
          "histogram": [
           {
            "bin_start": 0,
            "bin_end": 0.1,
            "count": 3
           },
           {
            "bin_start": 0.1,
            "bin_end": 0.2,
            "count": 0
           },
           {
            "bin_start": 0.2,
            "bin_end": 0.30000000000000004,
            "count": 0
           },
           {
            "bin_start": 0.30000000000000004,
            "bin_end": 0.4,
            "count": 0
           },
           {
            "bin_start": 0.4,
            "bin_end": 0.5,
            "count": 0
           },
           {
            "bin_start": 0.5,
            "bin_end": 0.6000000000000001,
            "count": 0
           },
           {
            "bin_start": 0.6000000000000001,
            "bin_end": 0.7000000000000001,
            "count": 0
           },
           {
            "bin_start": 0.7000000000000001,
            "bin_end": 0.8,
            "count": 0
           },
           {
            "bin_start": 0.8,
            "bin_end": 0.9,
            "count": 0
           },
           {
            "bin_start": 0.9,
            "bin_end": 1,
            "count": 2
           }
          ]
         }
        },
        {
         "name": "i",
         "dtype": "int64",
         "stats": {
          "unique_count": 1,
          "nan_count": 0,
          "min": "1",
          "max": "1",
          "histogram": [
           {
            "bin_start": 0.5,
            "bin_end": 0.6,
            "count": 0
           },
           {
            "bin_start": 0.6,
            "bin_end": 0.7,
            "count": 0
           },
           {
            "bin_start": 0.7,
            "bin_end": 0.8,
            "count": 0
           },
           {
            "bin_start": 0.8,
            "bin_end": 0.9,
            "count": 0
           },
           {
            "bin_start": 0.9,
            "bin_end": 1,
            "count": 0
           },
           {
            "bin_start": 1,
            "bin_end": 1.1,
            "count": 5
           },
           {
            "bin_start": 1.1,
            "bin_end": 1.2000000000000002,
            "count": 0
           },
           {
            "bin_start": 1.2000000000000002,
            "bin_end": 1.3,
            "count": 0
           },
           {
            "bin_start": 1.3,
            "bin_end": 1.4,
            "count": 0
           },
           {
            "bin_start": 1.4,
            "bin_end": 1.5,
            "count": 0
           }
          ]
         }
        },
        {
         "name": "more",
         "dtype": "int64",
         "stats": {
          "unique_count": 1,
          "nan_count": 0,
          "min": "0",
          "max": "0",
          "histogram": [
           {
            "bin_start": -0.5,
            "bin_end": -0.4,
            "count": 0
           },
           {
            "bin_start": -0.4,
            "bin_end": -0.3,
            "count": 0
           },
           {
            "bin_start": -0.3,
            "bin_end": -0.19999999999999996,
            "count": 0
           },
           {
            "bin_start": -0.19999999999999996,
            "bin_end": -0.09999999999999998,
            "count": 0
           },
           {
            "bin_start": -0.09999999999999998,
            "bin_end": 0,
            "count": 0
           },
           {
            "bin_start": 0,
            "bin_end": 0.10000000000000009,
            "count": 5
           },
           {
            "bin_start": 0.10000000000000009,
            "bin_end": 0.20000000000000007,
            "count": 0
           },
           {
            "bin_start": 0.20000000000000007,
            "bin_end": 0.30000000000000004,
            "count": 0
           },
           {
            "bin_start": 0.30000000000000004,
            "bin_end": 0.4,
            "count": 0
           },
           {
            "bin_start": 0.4,
            "bin_end": 0.5,
            "count": 0
           }
          ]
         }
        },
        {
         "name": "deal",
         "dtype": "int64",
         "stats": {
          "unique_count": 2,
          "nan_count": 0,
          "min": "0",
          "max": "1",
          "histogram": [
           {
            "bin_start": 0,
            "bin_end": 0.1,
            "count": 3
           },
           {
            "bin_start": 0.1,
            "bin_end": 0.2,
            "count": 0
           },
           {
            "bin_start": 0.2,
            "bin_end": 0.30000000000000004,
            "count": 0
           },
           {
            "bin_start": 0.30000000000000004,
            "bin_end": 0.4,
            "count": 0
           },
           {
            "bin_start": 0.4,
            "bin_end": 0.5,
            "count": 0
           },
           {
            "bin_start": 0.5,
            "bin_end": 0.6000000000000001,
            "count": 0
           },
           {
            "bin_start": 0.6000000000000001,
            "bin_end": 0.7000000000000001,
            "count": 0
           },
           {
            "bin_start": 0.7000000000000001,
            "bin_end": 0.8,
            "count": 0
           },
           {
            "bin_start": 0.8,
            "bin_end": 0.9,
            "count": 0
           },
           {
            "bin_start": 0.9,
            "bin_end": 1,
            "count": 2
           }
          ]
         }
        },
        {
         "name": "attached",
         "dtype": "int64",
         "stats": {
          "unique_count": 2,
          "nan_count": 0,
          "min": "0",
          "max": "1",
          "histogram": [
           {
            "bin_start": 0,
            "bin_end": 0.1,
            "count": 4
           },
           {
            "bin_start": 0.1,
            "bin_end": 0.2,
            "count": 0
           },
           {
            "bin_start": 0.2,
            "bin_end": 0.30000000000000004,
            "count": 0
           },
           {
            "bin_start": 0.30000000000000004,
            "bin_end": 0.4,
            "count": 0
           },
           {
            "bin_start": 0.4,
            "bin_end": 0.5,
            "count": 0
           },
           {
            "bin_start": 0.5,
            "bin_end": 0.6000000000000001,
            "count": 0
           },
           {
            "bin_start": 0.6000000000000001,
            "bin_end": 0.7000000000000001,
            "count": 0
           },
           {
            "bin_start": 0.7000000000000001,
            "bin_end": 0.8,
            "count": 0
           },
           {
            "bin_start": 0.8,
            "bin_end": 0.9,
            "count": 0
           },
           {
            "bin_start": 0.9,
            "bin_end": 1,
            "count": 1
           }
          ]
         }
        },
        {
         "name": "here",
         "dtype": "int64",
         "stats": {
          "unique_count": 2,
          "nan_count": 0,
          "min": "0",
          "max": "1",
          "histogram": [
           {
            "bin_start": 0,
            "bin_end": 0.1,
            "count": 3
           },
           {
            "bin_start": 0.1,
            "bin_end": 0.2,
            "count": 0
           },
           {
            "bin_start": 0.2,
            "bin_end": 0.30000000000000004,
            "count": 0
           },
           {
            "bin_start": 0.30000000000000004,
            "bin_end": 0.4,
            "count": 0
           },
           {
            "bin_start": 0.4,
            "bin_end": 0.5,
            "count": 0
           },
           {
            "bin_start": 0.5,
            "bin_end": 0.6000000000000001,
            "count": 0
           },
           {
            "bin_start": 0.6000000000000001,
            "bin_end": 0.7000000000000001,
            "count": 0
           },
           {
            "bin_start": 0.7000000000000001,
            "bin_end": 0.8,
            "count": 0
           },
           {
            "bin_start": 0.8,
            "bin_end": 0.9,
            "count": 0
           },
           {
            "bin_start": 0.9,
            "bin_end": 1,
            "count": 2
           }
          ]
         }
        },
        {
         "name": "am",
         "dtype": "int64",
         "stats": {
          "unique_count": 2,
          "nan_count": 0,
          "min": "0",
          "max": "1",
          "histogram": [
           {
            "bin_start": 0,
            "bin_end": 0.1,
            "count": 1
           },
           {
            "bin_start": 0.1,
            "bin_end": 0.2,
            "count": 0
           },
           {
            "bin_start": 0.2,
            "bin_end": 0.30000000000000004,
            "count": 0
           },
           {
            "bin_start": 0.30000000000000004,
            "bin_end": 0.4,
            "count": 0
           },
           {
            "bin_start": 0.4,
            "bin_end": 0.5,
            "count": 0
           },
           {
            "bin_start": 0.5,
            "bin_end": 0.6000000000000001,
            "count": 0
           },
           {
            "bin_start": 0.6000000000000001,
            "bin_end": 0.7000000000000001,
            "count": 0
           },
           {
            "bin_start": 0.7000000000000001,
            "bin_end": 0.8,
            "count": 0
           },
           {
            "bin_start": 0.8,
            "bin_end": 0.9,
            "count": 0
           },
           {
            "bin_start": 0.9,
            "bin_end": 1,
            "count": 4
           }
          ]
         }
        },
        {
         "name": "forwarded",
         "dtype": "int64",
         "stats": {
          "unique_count": 2,
          "nan_count": 0,
          "min": "0",
          "max": "1",
          "histogram": [
           {
            "bin_start": 0,
            "bin_end": 0.1,
            "count": 4
           },
           {
            "bin_start": 0.1,
            "bin_end": 0.2,
            "count": 0
           },
           {
            "bin_start": 0.2,
            "bin_end": 0.30000000000000004,
            "count": 0
           },
           {
            "bin_start": 0.30000000000000004,
            "bin_end": 0.4,
            "count": 0
           },
           {
            "bin_start": 0.4,
            "bin_end": 0.5,
            "count": 0
           },
           {
            "bin_start": 0.5,
            "bin_end": 0.6000000000000001,
            "count": 0
           },
           {
            "bin_start": 0.6000000000000001,
            "bin_end": 0.7000000000000001,
            "count": 0
           },
           {
            "bin_start": 0.7000000000000001,
            "bin_end": 0.8,
            "count": 0
           },
           {
            "bin_start": 0.8,
            "bin_end": 0.9,
            "count": 0
           },
           {
            "bin_start": 0.9,
            "bin_end": 1,
            "count": 1
           }
          ]
         }
        },
        {
         "name": "ect",
         "dtype": "int64",
         "stats": {
          "unique_count": 1,
          "nan_count": 0,
          "min": "1",
          "max": "1",
          "histogram": [
           {
            "bin_start": 0.5,
            "bin_end": 0.6,
            "count": 0
           },
           {
            "bin_start": 0.6,
            "bin_end": 0.7,
            "count": 0
           },
           {
            "bin_start": 0.7,
            "bin_end": 0.8,
            "count": 0
           },
           {
            "bin_start": 0.8,
            "bin_end": 0.9,
            "count": 0
           },
           {
            "bin_start": 0.9,
            "bin_end": 1,
            "count": 0
           },
           {
            "bin_start": 1,
            "bin_end": 1.1,
            "count": 5
           },
           {
            "bin_start": 1.1,
            "bin_end": 1.2000000000000002,
            "count": 0
           },
           {
            "bin_start": 1.2000000000000002,
            "bin_end": 1.3,
            "count": 0
           },
           {
            "bin_start": 1.3,
            "bin_end": 1.4,
            "count": 0
           },
           {
            "bin_start": 1.4,
            "bin_end": 1.5,
            "count": 0
           }
          ]
         }
        },
        {
         "name": "%",
         "dtype": "int64",
         "stats": {
          "unique_count": 1,
          "nan_count": 0,
          "min": "0",
          "max": "0",
          "histogram": [
           {
            "bin_start": -0.5,
            "bin_end": -0.4,
            "count": 0
           },
           {
            "bin_start": -0.4,
            "bin_end": -0.3,
            "count": 0
           },
           {
            "bin_start": -0.3,
            "bin_end": -0.19999999999999996,
            "count": 0
           },
           {
            "bin_start": -0.19999999999999996,
            "bin_end": -0.09999999999999998,
            "count": 0
           },
           {
            "bin_start": -0.09999999999999998,
            "bin_end": 0,
            "count": 0
           },
           {
            "bin_start": 0,
            "bin_end": 0.10000000000000009,
            "count": 5
           },
           {
            "bin_start": 0.10000000000000009,
            "bin_end": 0.20000000000000007,
            "count": 0
           },
           {
            "bin_start": 0.20000000000000007,
            "bin_end": 0.30000000000000004,
            "count": 0
           },
           {
            "bin_start": 0.30000000000000004,
            "bin_end": 0.4,
            "count": 0
           },
           {
            "bin_start": 0.4,
            "bin_end": 0.5,
            "count": 0
           }
          ]
         }
        },
        {
         "name": "please",
         "dtype": "int64",
         "stats": {
          "unique_count": 2,
          "nan_count": 0,
          "min": "0",
          "max": "1",
          "histogram": [
           {
            "bin_start": 0,
            "bin_end": 0.1,
            "count": 3
           },
           {
            "bin_start": 0.1,
            "bin_end": 0.2,
            "count": 0
           },
           {
            "bin_start": 0.2,
            "bin_end": 0.30000000000000004,
            "count": 0
           },
           {
            "bin_start": 0.30000000000000004,
            "bin_end": 0.4,
            "count": 0
           },
           {
            "bin_start": 0.4,
            "bin_end": 0.5,
            "count": 0
           },
           {
            "bin_start": 0.5,
            "bin_end": 0.6000000000000001,
            "count": 0
           },
           {
            "bin_start": 0.6000000000000001,
            "bin_end": 0.7000000000000001,
            "count": 0
           },
           {
            "bin_start": 0.7000000000000001,
            "bin_end": 0.8,
            "count": 0
           },
           {
            "bin_start": 0.8,
            "bin_end": 0.9,
            "count": 0
           },
           {
            "bin_start": 0.9,
            "bin_end": 1,
            "count": 2
           }
          ]
         }
        },
        {
         "name": "no",
         "dtype": "int64",
         "stats": {
          "unique_count": 1,
          "nan_count": 0,
          "min": "1",
          "max": "1",
          "histogram": [
           {
            "bin_start": 0.5,
            "bin_end": 0.6,
            "count": 0
           },
           {
            "bin_start": 0.6,
            "bin_end": 0.7,
            "count": 0
           },
           {
            "bin_start": 0.7,
            "bin_end": 0.8,
            "count": 0
           },
           {
            "bin_start": 0.8,
            "bin_end": 0.9,
            "count": 0
           },
           {
            "bin_start": 0.9,
            "bin_end": 1,
            "count": 0
           },
           {
            "bin_start": 1,
            "bin_end": 1.1,
            "count": 5
           },
           {
            "bin_start": 1.1,
            "bin_end": 1.2000000000000002,
            "count": 0
           },
           {
            "bin_start": 1.2000000000000002,
            "bin_end": 1.3,
            "count": 0
           },
           {
            "bin_start": 1.3,
            "bin_end": 1.4,
            "count": 0
           },
           {
            "bin_start": 1.4,
            "bin_end": 1.5,
            "count": 0
           }
          ]
         }
        },
        {
         "name": "2001",
         "dtype": "int64",
         "stats": {
          "unique_count": 2,
          "nan_count": 0,
          "min": "0",
          "max": "1",
          "histogram": [
           {
            "bin_start": 0,
            "bin_end": 0.1,
            "count": 4
           },
           {
            "bin_start": 0.1,
            "bin_end": 0.2,
            "count": 0
           },
           {
            "bin_start": 0.2,
            "bin_end": 0.30000000000000004,
            "count": 0
           },
           {
            "bin_start": 0.30000000000000004,
            "bin_end": 0.4,
            "count": 0
           },
           {
            "bin_start": 0.4,
            "bin_end": 0.5,
            "count": 0
           },
           {
            "bin_start": 0.5,
            "bin_end": 0.6000000000000001,
            "count": 0
           },
           {
            "bin_start": 0.6000000000000001,
            "bin_end": 0.7000000000000001,
            "count": 0
           },
           {
            "bin_start": 0.7000000000000001,
            "bin_end": 0.8,
            "count": 0
           },
           {
            "bin_start": 0.8,
            "bin_end": 0.9,
            "count": 0
           },
           {
            "bin_start": 0.9,
            "bin_end": 1,
            "count": 1
           }
          ]
         }
        },
        {
         "name": "for",
         "dtype": "int64",
         "stats": {
          "unique_count": 2,
          "nan_count": 0,
          "min": "0",
          "max": "1",
          "histogram": [
           {
            "bin_start": 0,
            "bin_end": 0.1,
            "count": 1
           },
           {
            "bin_start": 0.1,
            "bin_end": 0.2,
            "count": 0
           },
           {
            "bin_start": 0.2,
            "bin_end": 0.30000000000000004,
            "count": 0
           },
           {
            "bin_start": 0.30000000000000004,
            "bin_end": 0.4,
            "count": 0
           },
           {
            "bin_start": 0.4,
            "bin_end": 0.5,
            "count": 0
           },
           {
            "bin_start": 0.5,
            "bin_end": 0.6000000000000001,
            "count": 0
           },
           {
            "bin_start": 0.6000000000000001,
            "bin_end": 0.7000000000000001,
            "count": 0
           },
           {
            "bin_start": 0.7000000000000001,
            "bin_end": 0.8,
            "count": 0
           },
           {
            "bin_start": 0.8,
            "bin_end": 0.9,
            "count": 0
           },
           {
            "bin_start": 0.9,
            "bin_end": 1,
            "count": 4
           }
          ]
         }
        },
        {
         "name": "on",
         "dtype": "int64",
         "stats": {
          "unique_count": 1,
          "nan_count": 0,
          "min": "1",
          "max": "1",
          "histogram": [
           {
            "bin_start": 0.5,
            "bin_end": 0.6,
            "count": 0
           },
           {
            "bin_start": 0.6,
            "bin_end": 0.7,
            "count": 0
           },
           {
            "bin_start": 0.7,
            "bin_end": 0.8,
            "count": 0
           },
           {
            "bin_start": 0.8,
            "bin_end": 0.9,
            "count": 0
           },
           {
            "bin_start": 0.9,
            "bin_end": 1,
            "count": 0
           },
           {
            "bin_start": 1,
            "bin_end": 1.1,
            "count": 5
           },
           {
            "bin_start": 1.1,
            "bin_end": 1.2000000000000002,
            "count": 0
           },
           {
            "bin_start": 1.2000000000000002,
            "bin_end": 1.3,
            "count": 0
           },
           {
            "bin_start": 1.3,
            "bin_end": 1.4,
            "count": 0
           },
           {
            "bin_start": 1.4,
            "bin_end": 1.5,
            "count": 0
           }
          ]
         }
        },
        {
         "name": "me",
         "dtype": "int64",
         "stats": {
          "unique_count": 1,
          "nan_count": 0,
          "min": "1",
          "max": "1",
          "histogram": [
           {
            "bin_start": 0.5,
            "bin_end": 0.6,
            "count": 0
           },
           {
            "bin_start": 0.6,
            "bin_end": 0.7,
            "count": 0
           },
           {
            "bin_start": 0.7,
            "bin_end": 0.8,
            "count": 0
           },
           {
            "bin_start": 0.8,
            "bin_end": 0.9,
            "count": 0
           },
           {
            "bin_start": 0.9,
            "bin_end": 1,
            "count": 0
           },
           {
            "bin_start": 1,
            "bin_end": 1.1,
            "count": 5
           },
           {
            "bin_start": 1.1,
            "bin_end": 1.2000000000000002,
            "count": 0
           },
           {
            "bin_start": 1.2000000000000002,
            "bin_end": 1.3,
            "count": 0
           },
           {
            "bin_start": 1.3,
            "bin_end": 1.4,
            "count": 0
           },
           {
            "bin_start": 1.4,
            "bin_end": 1.5,
            "count": 0
           }
          ]
         }
        },
        {
         "name": ",",
         "dtype": "int64",
         "stats": {
          "unique_count": 1,
          "nan_count": 0,
          "min": "1",
          "max": "1",
          "histogram": [
           {
            "bin_start": 0.5,
            "bin_end": 0.6,
            "count": 0
           },
           {
            "bin_start": 0.6,
            "bin_end": 0.7,
            "count": 0
           },
           {
            "bin_start": 0.7,
            "bin_end": 0.8,
            "count": 0
           },
           {
            "bin_start": 0.8,
            "bin_end": 0.9,
            "count": 0
           },
           {
            "bin_start": 0.9,
            "bin_end": 1,
            "count": 0
           },
           {
            "bin_start": 1,
            "bin_end": 1.1,
            "count": 5
           },
           {
            "bin_start": 1.1,
            "bin_end": 1.2000000000000002,
            "count": 0
           },
           {
            "bin_start": 1.2000000000000002,
            "bin_end": 1.3,
            "count": 0
           },
           {
            "bin_start": 1.3,
            "bin_end": 1.4,
            "count": 0
           },
           {
            "bin_start": 1.4,
            "bin_end": 1.5,
            "count": 0
           }
          ]
         }
        },
        {
         "name": "/",
         "dtype": "int64",
         "stats": {
          "unique_count": 2,
          "nan_count": 0,
          "min": "0",
          "max": "1",
          "histogram": [
           {
            "bin_start": 0,
            "bin_end": 0.1,
            "count": 1
           },
           {
            "bin_start": 0.1,
            "bin_end": 0.2,
            "count": 0
           },
           {
            "bin_start": 0.2,
            "bin_end": 0.30000000000000004,
            "count": 0
           },
           {
            "bin_start": 0.30000000000000004,
            "bin_end": 0.4,
            "count": 0
           },
           {
            "bin_start": 0.4,
            "bin_end": 0.5,
            "count": 0
           },
           {
            "bin_start": 0.5,
            "bin_end": 0.6000000000000001,
            "count": 0
           },
           {
            "bin_start": 0.6000000000000001,
            "bin_end": 0.7000000000000001,
            "count": 0
           },
           {
            "bin_start": 0.7000000000000001,
            "bin_end": 0.8,
            "count": 0
           },
           {
            "bin_start": 0.8,
            "bin_end": 0.9,
            "count": 0
           },
           {
            "bin_start": 0.9,
            "bin_end": 1,
            "count": 4
           }
          ]
         }
        },
        {
         "name": "let",
         "dtype": "int64",
         "stats": {
          "unique_count": 2,
          "nan_count": 0,
          "min": "0",
          "max": "1",
          "histogram": [
           {
            "bin_start": 0,
            "bin_end": 0.1,
            "count": 1
           },
           {
            "bin_start": 0.1,
            "bin_end": 0.2,
            "count": 0
           },
           {
            "bin_start": 0.2,
            "bin_end": 0.30000000000000004,
            "count": 0
           },
           {
            "bin_start": 0.30000000000000004,
            "bin_end": 0.4,
            "count": 0
           },
           {
            "bin_start": 0.4,
            "bin_end": 0.5,
            "count": 0
           },
           {
            "bin_start": 0.5,
            "bin_end": 0.6000000000000001,
            "count": 0
           },
           {
            "bin_start": 0.6000000000000001,
            "bin_end": 0.7000000000000001,
            "count": 0
           },
           {
            "bin_start": 0.7000000000000001,
            "bin_end": 0.8,
            "count": 0
           },
           {
            "bin_start": 0.8,
            "bin_end": 0.9,
            "count": 0
           },
           {
            "bin_start": 0.9,
            "bin_end": 1,
            "count": 4
           }
          ]
         }
        },
        {
         "name": "corp",
         "dtype": "int64",
         "stats": {
          "unique_count": 2,
          "nan_count": 0,
          "min": "0",
          "max": "1",
          "histogram": [
           {
            "bin_start": 0,
            "bin_end": 0.1,
            "count": 4
           },
           {
            "bin_start": 0.1,
            "bin_end": 0.2,
            "count": 0
           },
           {
            "bin_start": 0.2,
            "bin_end": 0.30000000000000004,
            "count": 0
           },
           {
            "bin_start": 0.30000000000000004,
            "bin_end": 0.4,
            "count": 0
           },
           {
            "bin_start": 0.4,
            "bin_end": 0.5,
            "count": 0
           },
           {
            "bin_start": 0.5,
            "bin_end": 0.6000000000000001,
            "count": 0
           },
           {
            "bin_start": 0.6000000000000001,
            "bin_end": 0.7000000000000001,
            "count": 0
           },
           {
            "bin_start": 0.7000000000000001,
            "bin_end": 0.8,
            "count": 0
           },
           {
            "bin_start": 0.8,
            "bin_end": 0.9,
            "count": 0
           },
           {
            "bin_start": 0.9,
            "bin_end": 1,
            "count": 1
           }
          ]
         }
        },
        {
         "name": "know",
         "dtype": "int64",
         "stats": {
          "unique_count": 2,
          "nan_count": 0,
          "min": "0",
          "max": "1",
          "histogram": [
           {
            "bin_start": 0,
            "bin_end": 0.1,
            "count": 2
           },
           {
            "bin_start": 0.1,
            "bin_end": 0.2,
            "count": 0
           },
           {
            "bin_start": 0.2,
            "bin_end": 0.30000000000000004,
            "count": 0
           },
           {
            "bin_start": 0.30000000000000004,
            "bin_end": 0.4,
            "count": 0
           },
           {
            "bin_start": 0.4,
            "bin_end": 0.5,
            "count": 0
           },
           {
            "bin_start": 0.5,
            "bin_end": 0.6000000000000001,
            "count": 0
           },
           {
            "bin_start": 0.6000000000000001,
            "bin_end": 0.7000000000000001,
            "count": 0
           },
           {
            "bin_start": 0.7000000000000001,
            "bin_end": 0.8,
            "count": 0
           },
           {
            "bin_start": 0.8,
            "bin_end": 0.9,
            "count": 0
           },
           {
            "bin_start": 0.9,
            "bin_end": 1,
            "count": 3
           }
          ]
         }
        },
        {
         "name": "all",
         "dtype": "int64",
         "stats": {
          "unique_count": 2,
          "nan_count": 0,
          "min": "0",
          "max": "1",
          "histogram": [
           {
            "bin_start": 0,
            "bin_end": 0.1,
            "count": 2
           },
           {
            "bin_start": 0.1,
            "bin_end": 0.2,
            "count": 0
           },
           {
            "bin_start": 0.2,
            "bin_end": 0.30000000000000004,
            "count": 0
           },
           {
            "bin_start": 0.30000000000000004,
            "bin_end": 0.4,
            "count": 0
           },
           {
            "bin_start": 0.4,
            "bin_end": 0.5,
            "count": 0
           },
           {
            "bin_start": 0.5,
            "bin_end": 0.6000000000000001,
            "count": 0
           },
           {
            "bin_start": 0.6000000000000001,
            "bin_end": 0.7000000000000001,
            "count": 0
           },
           {
            "bin_start": 0.7000000000000001,
            "bin_end": 0.8,
            "count": 0
           },
           {
            "bin_start": 0.8,
            "bin_end": 0.9,
            "count": 0
           },
           {
            "bin_start": 0.9,
            "bin_end": 1,
            "count": 3
           }
          ]
         }
        },
        {
         "name": "&",
         "dtype": "int64",
         "stats": {
          "unique_count": 1,
          "nan_count": 0,
          "min": "0",
          "max": "0",
          "histogram": [
           {
            "bin_start": -0.5,
            "bin_end": -0.4,
            "count": 0
           },
           {
            "bin_start": -0.4,
            "bin_end": -0.3,
            "count": 0
           },
           {
            "bin_start": -0.3,
            "bin_end": -0.19999999999999996,
            "count": 0
           },
           {
            "bin_start": -0.19999999999999996,
            "bin_end": -0.09999999999999998,
            "count": 0
           },
           {
            "bin_start": -0.09999999999999998,
            "bin_end": 0,
            "count": 0
           },
           {
            "bin_start": 0,
            "bin_end": 0.10000000000000009,
            "count": 5
           },
           {
            "bin_start": 0.10000000000000009,
            "bin_end": 0.20000000000000007,
            "count": 0
           },
           {
            "bin_start": 0.20000000000000007,
            "bin_end": 0.30000000000000004,
            "count": 0
           },
           {
            "bin_start": 0.30000000000000004,
            "bin_end": 0.4,
            "count": 0
           },
           {
            "bin_start": 0.4,
            "bin_end": 0.5,
            "count": 0
           }
          ]
         }
        },
        {
         "name": "our",
         "dtype": "int64",
         "stats": {
          "unique_count": 2,
          "nan_count": 0,
          "min": "0",
          "max": "1",
          "histogram": [
           {
            "bin_start": 0,
            "bin_end": 0.1,
            "count": 3
           },
           {
            "bin_start": 0.1,
            "bin_end": 0.2,
            "count": 0
           },
           {
            "bin_start": 0.2,
            "bin_end": 0.30000000000000004,
            "count": 0
           },
           {
            "bin_start": 0.30000000000000004,
            "bin_end": 0.4,
            "count": 0
           },
           {
            "bin_start": 0.4,
            "bin_end": 0.5,
            "count": 0
           },
           {
            "bin_start": 0.5,
            "bin_end": 0.6000000000000001,
            "count": 0
           },
           {
            "bin_start": 0.6000000000000001,
            "bin_end": 0.7000000000000001,
            "count": 0
           },
           {
            "bin_start": 0.7000000000000001,
            "bin_end": 0.8,
            "count": 0
           },
           {
            "bin_start": 0.8,
            "bin_end": 0.9,
            "count": 0
           },
           {
            "bin_start": 0.9,
            "bin_end": 1,
            "count": 2
           }
          ]
         }
        },
        {
         "name": "000",
         "dtype": "int64",
         "stats": {
          "unique_count": 2,
          "nan_count": 0,
          "min": "0",
          "max": "1",
          "histogram": [
           {
            "bin_start": 0,
            "bin_end": 0.1,
            "count": 2
           },
           {
            "bin_start": 0.1,
            "bin_end": 0.2,
            "count": 0
           },
           {
            "bin_start": 0.2,
            "bin_end": 0.30000000000000004,
            "count": 0
           },
           {
            "bin_start": 0.30000000000000004,
            "bin_end": 0.4,
            "count": 0
           },
           {
            "bin_start": 0.4,
            "bin_end": 0.5,
            "count": 0
           },
           {
            "bin_start": 0.5,
            "bin_end": 0.6000000000000001,
            "count": 0
           },
           {
            "bin_start": 0.6000000000000001,
            "bin_end": 0.7000000000000001,
            "count": 0
           },
           {
            "bin_start": 0.7000000000000001,
            "bin_end": 0.8,
            "count": 0
           },
           {
            "bin_start": 0.8,
            "bin_end": 0.9,
            "count": 0
           },
           {
            "bin_start": 0.9,
            "bin_end": 1,
            "count": 3
           }
          ]
         }
        },
        {
         "name": "01",
         "dtype": "int64",
         "stats": {
          "unique_count": 2,
          "nan_count": 0,
          "min": "0",
          "max": "1",
          "histogram": [
           {
            "bin_start": 0,
            "bin_end": 0.1,
            "count": 3
           },
           {
            "bin_start": 0.1,
            "bin_end": 0.2,
            "count": 0
           },
           {
            "bin_start": 0.2,
            "bin_end": 0.30000000000000004,
            "count": 0
           },
           {
            "bin_start": 0.30000000000000004,
            "bin_end": 0.4,
            "count": 0
           },
           {
            "bin_start": 0.4,
            "bin_end": 0.5,
            "count": 0
           },
           {
            "bin_start": 0.5,
            "bin_end": 0.6000000000000001,
            "count": 0
           },
           {
            "bin_start": 0.6000000000000001,
            "bin_end": 0.7000000000000001,
            "count": 0
           },
           {
            "bin_start": 0.7000000000000001,
            "bin_end": 0.8,
            "count": 0
           },
           {
            "bin_start": 0.8,
            "bin_end": 0.9,
            "count": 0
           },
           {
            "bin_start": 0.9,
            "bin_end": 1,
            "count": 2
           }
          ]
         }
        },
        {
         "name": "the",
         "dtype": "int64",
         "stats": {
          "unique_count": 2,
          "nan_count": 0,
          "min": "0",
          "max": "1",
          "histogram": [
           {
            "bin_start": 0,
            "bin_end": 0.1,
            "count": 2
           },
           {
            "bin_start": 0.1,
            "bin_end": 0.2,
            "count": 0
           },
           {
            "bin_start": 0.2,
            "bin_end": 0.30000000000000004,
            "count": 0
           },
           {
            "bin_start": 0.30000000000000004,
            "bin_end": 0.4,
            "count": 0
           },
           {
            "bin_start": 0.4,
            "bin_end": 0.5,
            "count": 0
           },
           {
            "bin_start": 0.5,
            "bin_end": 0.6000000000000001,
            "count": 0
           },
           {
            "bin_start": 0.6000000000000001,
            "bin_end": 0.7000000000000001,
            "count": 0
           },
           {
            "bin_start": 0.7000000000000001,
            "bin_end": 0.8,
            "count": 0
           },
           {
            "bin_start": 0.8,
            "bin_end": 0.9,
            "count": 0
           },
           {
            "bin_start": 0.9,
            "bin_end": 1,
            "count": 3
           }
          ]
         }
        },
        {
         "name": "com",
         "dtype": "int64",
         "stats": {
          "unique_count": 1,
          "nan_count": 0,
          "min": "1",
          "max": "1",
          "histogram": [
           {
            "bin_start": 0.5,
            "bin_end": 0.6,
            "count": 0
           },
           {
            "bin_start": 0.6,
            "bin_end": 0.7,
            "count": 0
           },
           {
            "bin_start": 0.7,
            "bin_end": 0.8,
            "count": 0
           },
           {
            "bin_start": 0.8,
            "bin_end": 0.9,
            "count": 0
           },
           {
            "bin_start": 0.9,
            "bin_end": 1,
            "count": 0
           },
           {
            "bin_start": 1,
            "bin_end": 1.1,
            "count": 5
           },
           {
            "bin_start": 1.1,
            "bin_end": 1.2000000000000002,
            "count": 0
           },
           {
            "bin_start": 1.2000000000000002,
            "bin_end": 1.3,
            "count": 0
           },
           {
            "bin_start": 1.3,
            "bin_end": 1.4,
            "count": 0
           },
           {
            "bin_start": 1.4,
            "bin_end": 1.5,
            "count": 0
           }
          ]
         }
        },
        {
         "name": "volume",
         "dtype": "int64",
         "stats": {
          "unique_count": 2,
          "nan_count": 0,
          "min": "0",
          "max": "1",
          "histogram": [
           {
            "bin_start": 0,
            "bin_end": 0.1,
            "count": 4
           },
           {
            "bin_start": 0.1,
            "bin_end": 0.2,
            "count": 0
           },
           {
            "bin_start": 0.2,
            "bin_end": 0.30000000000000004,
            "count": 0
           },
           {
            "bin_start": 0.30000000000000004,
            "bin_end": 0.4,
            "count": 0
           },
           {
            "bin_start": 0.4,
            "bin_end": 0.5,
            "count": 0
           },
           {
            "bin_start": 0.5,
            "bin_end": 0.6000000000000001,
            "count": 0
           },
           {
            "bin_start": 0.6000000000000001,
            "bin_end": 0.7000000000000001,
            "count": 0
           },
           {
            "bin_start": 0.7000000000000001,
            "bin_end": 0.8,
            "count": 0
           },
           {
            "bin_start": 0.8,
            "bin_end": 0.9,
            "count": 0
           },
           {
            "bin_start": 0.9,
            "bin_end": 1,
            "count": 1
           }
          ]
         }
        },
        {
         "name": "farmer",
         "dtype": "int64",
         "stats": {
          "unique_count": 2,
          "nan_count": 0,
          "min": "0",
          "max": "1",
          "histogram": [
           {
            "bin_start": 0,
            "bin_end": 0.1,
            "count": 3
           },
           {
            "bin_start": 0.1,
            "bin_end": 0.2,
            "count": 0
           },
           {
            "bin_start": 0.2,
            "bin_end": 0.30000000000000004,
            "count": 0
           },
           {
            "bin_start": 0.30000000000000004,
            "bin_end": 0.4,
            "count": 0
           },
           {
            "bin_start": 0.4,
            "bin_end": 0.5,
            "count": 0
           },
           {
            "bin_start": 0.5,
            "bin_end": 0.6000000000000001,
            "count": 0
           },
           {
            "bin_start": 0.6000000000000001,
            "bin_end": 0.7000000000000001,
            "count": 0
           },
           {
            "bin_start": 0.7000000000000001,
            "bin_end": 0.8,
            "count": 0
           },
           {
            "bin_start": 0.8,
            "bin_end": 0.9,
            "count": 0
           },
           {
            "bin_start": 0.9,
            "bin_end": 1,
            "count": 2
           }
          ]
         }
        },
        {
         "name": "will",
         "dtype": "int64",
         "stats": {
          "unique_count": 2,
          "nan_count": 0,
          "min": "0",
          "max": "1",
          "histogram": [
           {
            "bin_start": 0,
            "bin_end": 0.1,
            "count": 2
           },
           {
            "bin_start": 0.1,
            "bin_end": 0.2,
            "count": 0
           },
           {
            "bin_start": 0.2,
            "bin_end": 0.30000000000000004,
            "count": 0
           },
           {
            "bin_start": 0.30000000000000004,
            "bin_end": 0.4,
            "count": 0
           },
           {
            "bin_start": 0.4,
            "bin_end": 0.5,
            "count": 0
           },
           {
            "bin_start": 0.5,
            "bin_end": 0.6000000000000001,
            "count": 0
           },
           {
            "bin_start": 0.6000000000000001,
            "bin_end": 0.7000000000000001,
            "count": 0
           },
           {
            "bin_start": 0.7000000000000001,
            "bin_end": 0.8,
            "count": 0
           },
           {
            "bin_start": 0.8,
            "bin_end": 0.9,
            "count": 0
           },
           {
            "bin_start": 0.9,
            "bin_end": 1,
            "count": 3
           }
          ]
         }
        },
        {
         "name": "questions",
         "dtype": "int64",
         "stats": {
          "unique_count": 2,
          "nan_count": 0,
          "min": "0",
          "max": "1",
          "histogram": [
           {
            "bin_start": 0,
            "bin_end": 0.1,
            "count": 4
           },
           {
            "bin_start": 0.1,
            "bin_end": 0.2,
            "count": 0
           },
           {
            "bin_start": 0.2,
            "bin_end": 0.30000000000000004,
            "count": 0
           },
           {
            "bin_start": 0.30000000000000004,
            "bin_end": 0.4,
            "count": 0
           },
           {
            "bin_start": 0.4,
            "bin_end": 0.5,
            "count": 0
           },
           {
            "bin_start": 0.5,
            "bin_end": 0.6000000000000001,
            "count": 0
           },
           {
            "bin_start": 0.6000000000000001,
            "bin_end": 0.7000000000000001,
            "count": 0
           },
           {
            "bin_start": 0.7000000000000001,
            "bin_end": 0.8,
            "count": 0
           },
           {
            "bin_start": 0.8,
            "bin_end": 0.9,
            "count": 0
           },
           {
            "bin_start": 0.9,
            "bin_end": 1,
            "count": 1
           }
          ]
         }
        },
        {
         "name": "_deepnote_index_column",
         "dtype": "int64"
        }
       ],
       "rows": [
        {
         "2000": "1",
         "2001": "0",
         "!": "0",
         "cc": "1",
         "thanks": "0",
         "your": "0",
         "gas": "1",
         "http": "0",
         "subject": "1",
         "pm": "0",
         "i": "1",
         "more": "0",
         "deal": "0",
         "attached": "0",
         "here": "0",
         "am": "1",
         "forwarded": "0",
         "ect": "1",
         "%": "0",
         "please": "0",
         "no": "1",
         "for": "0",
         "on": "1",
         "me": "1",
         ",": "1",
         "/": "0",
         "let": "0",
         "corp": "0",
         "know": "0",
         "all": "0",
         "&": "0",
         "our": "0",
         "000": "1",
         "01": "0",
         "the": "0",
         "com": "1",
         "volume": "0",
         "farmer": "1",
         "will": "0",
         "questions": "0",
         "_deepnote_index_column": "0"
        },
        {
         "2000": "0",
         "2001": "0",
         "!": "1",
         "cc": "0",
         "thanks": "0",
         "your": "1",
         "gas": "0",
         "http": "1",
         "subject": "1",
         "pm": "0",
         "i": "1",
         "more": "0",
         "deal": "0",
         "attached": "0",
         "here": "1",
         "am": "1",
         "forwarded": "0",
         "ect": "1",
         "%": "0",
         "please": "0",
         "no": "1",
         "for": "1",
         "on": "1",
         "me": "1",
         ",": "1",
         "/": "1",
         "let": "1",
         "corp": "0",
         "know": "0",
         "all": "1",
         "&": "0",
         "our": "1",
         "000": "0",
         "01": "0",
         "the": "0",
         "com": "1",
         "volume": "0",
         "farmer": "0",
         "will": "1",
         "questions": "0",
         "_deepnote_index_column": "1"
        },
        {
         "2000": "0",
         "2001": "0",
         "!": "0",
         "cc": "0",
         "thanks": "0",
         "your": "0",
         "gas": "0",
         "http": "0",
         "subject": "1",
         "pm": "0",
         "i": "1",
         "more": "0",
         "deal": "0",
         "attached": "0",
         "here": "0",
         "am": "0",
         "forwarded": "0",
         "ect": "1",
         "%": "0",
         "please": "1",
         "no": "1",
         "for": "1",
         "on": "1",
         "me": "1",
         ",": "1",
         "/": "1",
         "let": "1",
         "corp": "0",
         "know": "1",
         "all": "0",
         "&": "0",
         "our": "0",
         "000": "0",
         "01": "0",
         "the": "1",
         "com": "1",
         "volume": "0",
         "farmer": "0",
         "will": "0",
         "questions": "1",
         "_deepnote_index_column": "2"
        },
        {
         "2000": "1",
         "2001": "1",
         "!": "0",
         "cc": "0",
         "thanks": "0",
         "your": "0",
         "gas": "0",
         "http": "0",
         "subject": "1",
         "pm": "1",
         "i": "1",
         "more": "0",
         "deal": "1",
         "attached": "0",
         "here": "1",
         "am": "1",
         "forwarded": "0",
         "ect": "1",
         "%": "0",
         "please": "0",
         "no": "1",
         "for": "1",
         "on": "1",
         "me": "1",
         ",": "1",
         "/": "1",
         "let": "1",
         "corp": "0",
         "know": "1",
         "all": "1",
         "&": "0",
         "our": "0",
         "000": "1",
         "01": "1",
         "the": "1",
         "com": "1",
         "volume": "0",
         "farmer": "1",
         "will": "1",
         "questions": "0",
         "_deepnote_index_column": "3"
        },
        {
         "2000": "1",
         "2001": "0",
         "!": "0",
         "cc": "1",
         "thanks": "1",
         "your": "1",
         "gas": "1",
         "http": "0",
         "subject": "1",
         "pm": "1",
         "i": "1",
         "more": "0",
         "deal": "1",
         "attached": "1",
         "here": "0",
         "am": "1",
         "forwarded": "1",
         "ect": "1",
         "%": "0",
         "please": "1",
         "no": "1",
         "for": "1",
         "on": "1",
         "me": "1",
         ",": "1",
         "/": "1",
         "let": "1",
         "corp": "1",
         "know": "1",
         "all": "1",
         "&": "0",
         "our": "1",
         "000": "1",
         "01": "1",
         "the": "1",
         "com": "1",
         "volume": "1",
         "farmer": "0",
         "will": "1",
         "questions": "0",
         "_deepnote_index_column": "4"
        }
       ]
      },
      "text/plain": "   !  2000  cc  thanks  your  gas  http  subject  pm  i  ...  &  our  000  01  \\\n0  0     1   1       0     0    1     0        1   0  1  ...  0    0    1   0   \n1  1     0   0       0     1    0     1        1   0  1  ...  0    1    0   0   \n2  0     0   0       0     0    0     0        1   0  1  ...  0    0    0   0   \n3  0     1   0       0     0    0     0        1   1  1  ...  0    0    1   1   \n4  0     1   1       1     1    1     0        1   1  1  ...  0    1    1   1   \n\n   the  com  volume  farmer  will  questions  \n0    0    1       0       1     0          0  \n1    0    1       0       0     1          0  \n2    1    1       0       0     0          1  \n3    1    1       0       1     1          0  \n4    1    1       1       0     1          0  \n\n[5 rows x 40 columns]",
      "text/html": "<div>\n<style scoped>\n    .dataframe tbody tr th:only-of-type {\n        vertical-align: middle;\n    }\n\n    .dataframe tbody tr th {\n        vertical-align: top;\n    }\n\n    .dataframe thead th {\n        text-align: right;\n    }\n</style>\n<table border=\"1\" class=\"dataframe\">\n  <thead>\n    <tr style=\"text-align: right;\">\n      <th></th>\n      <th>!</th>\n      <th>2000</th>\n      <th>cc</th>\n      <th>thanks</th>\n      <th>your</th>\n      <th>gas</th>\n      <th>http</th>\n      <th>subject</th>\n      <th>pm</th>\n      <th>i</th>\n      <th>...</th>\n      <th>&amp;</th>\n      <th>our</th>\n      <th>000</th>\n      <th>01</th>\n      <th>the</th>\n      <th>com</th>\n      <th>volume</th>\n      <th>farmer</th>\n      <th>will</th>\n      <th>questions</th>\n    </tr>\n  </thead>\n  <tbody>\n    <tr>\n      <th>0</th>\n      <td>0</td>\n      <td>1</td>\n      <td>1</td>\n      <td>0</td>\n      <td>0</td>\n      <td>1</td>\n      <td>0</td>\n      <td>1</td>\n      <td>0</td>\n      <td>1</td>\n      <td>...</td>\n      <td>0</td>\n      <td>0</td>\n      <td>1</td>\n      <td>0</td>\n      <td>0</td>\n      <td>1</td>\n      <td>0</td>\n      <td>1</td>\n      <td>0</td>\n      <td>0</td>\n    </tr>\n    <tr>\n      <th>1</th>\n      <td>1</td>\n      <td>0</td>\n      <td>0</td>\n      <td>0</td>\n      <td>1</td>\n      <td>0</td>\n      <td>1</td>\n      <td>1</td>\n      <td>0</td>\n      <td>1</td>\n      <td>...</td>\n      <td>0</td>\n      <td>1</td>\n      <td>0</td>\n      <td>0</td>\n      <td>0</td>\n      <td>1</td>\n      <td>0</td>\n      <td>0</td>\n      <td>1</td>\n      <td>0</td>\n    </tr>\n    <tr>\n      <th>2</th>\n      <td>0</td>\n      <td>0</td>\n      <td>0</td>\n      <td>0</td>\n      <td>0</td>\n      <td>0</td>\n      <td>0</td>\n      <td>1</td>\n      <td>0</td>\n      <td>1</td>\n      <td>...</td>\n      <td>0</td>\n      <td>0</td>\n      <td>0</td>\n      <td>0</td>\n      <td>1</td>\n      <td>1</td>\n      <td>0</td>\n      <td>0</td>\n      <td>0</td>\n      <td>1</td>\n    </tr>\n    <tr>\n      <th>3</th>\n      <td>0</td>\n      <td>1</td>\n      <td>0</td>\n      <td>0</td>\n      <td>0</td>\n      <td>0</td>\n      <td>0</td>\n      <td>1</td>\n      <td>1</td>\n      <td>1</td>\n      <td>...</td>\n      <td>0</td>\n      <td>0</td>\n      <td>1</td>\n      <td>1</td>\n      <td>1</td>\n      <td>1</td>\n      <td>0</td>\n      <td>1</td>\n      <td>1</td>\n      <td>0</td>\n    </tr>\n    <tr>\n      <th>4</th>\n      <td>0</td>\n      <td>1</td>\n      <td>1</td>\n      <td>1</td>\n      <td>1</td>\n      <td>1</td>\n      <td>0</td>\n      <td>1</td>\n      <td>1</td>\n      <td>1</td>\n      <td>...</td>\n      <td>0</td>\n      <td>1</td>\n      <td>1</td>\n      <td>1</td>\n      <td>1</td>\n      <td>1</td>\n      <td>1</td>\n      <td>0</td>\n      <td>1</td>\n      <td>0</td>\n    </tr>\n  </tbody>\n</table>\n<p>5 rows × 40 columns</p>\n</div>"
     },
     "metadata": {}
    }
   ]
  },
  {
   "cell_type": "code",
   "source": "#best_threshold was defined above in the \"K-fold Cross Validation\" question\nfiltered = remove_correlated(feature_df, corr_threshold = best_threshold)\n\nX_train = filtered.values\nX_val = words_in_texts(filtered.columns, val['email'])\n    \nbest_acc, best_model, best_features = make_model(X_train, X_val, Y_train, Y_val) ",
   "metadata": {
    "cell_id": "00060-edb70c47-d9b9-44bb-a68c-05b4f4e3cf36",
    "deepnote_to_be_reexecuted": false,
    "source_hash": "614e68d7",
    "execution_start": 1662072545300,
    "execution_millis": 294,
    "deepnote_cell_type": "code",
    "deepnote_cell_height": 184
   },
   "execution_count": 42,
   "outputs": []
  },
  {
   "cell_type": "code",
   "source": "best_acc",
   "metadata": {
    "cell_id": "00061-1083dbe1-6fef-4e2f-8c0b-f05741c8e1be",
    "deepnote_to_be_reexecuted": false,
    "source_hash": "fed14f25",
    "execution_start": 1662072567372,
    "execution_millis": 8,
    "deepnote_cell_type": "code",
    "deepnote_cell_height": 112.1875,
    "deepnote_output_heights": [
     20.1875
    ]
   },
   "execution_count": 46,
   "outputs": [
    {
     "output_type": "execute_result",
     "execution_count": 46,
     "data": {
      "text/plain": "0.9073359073359073"
     },
     "metadata": {}
    }
   ]
  },
  {
   "cell_type": "markdown",
   "source": "### Visualizations\nA visual representation of the insight put into feature selection.",
   "metadata": {
    "nbgrader": {
     "grade": false,
     "grade_id": "q8",
     "locked": true,
     "schema_version": 2,
     "solution": false
    },
    "tags": [],
    "cell_id": "00062-e1ada3b3-2566-44df-9780-09abd860cbe3",
    "deepnote_cell_type": "markdown",
    "deepnote_cell_height": 100.390625
   }
  },
  {
   "cell_type": "code",
   "metadata": {
    "ExecuteTime": {
     "end_time": "2019-04-02T00:27:36.170465Z",
     "start_time": "2019-04-02T00:27:36.167776Z"
    },
    "nbgrader": {
     "grade": true,
     "grade_id": "q8-eda",
     "locked": false,
     "points": 3,
     "schema_version": 2,
     "solution": true
    },
    "tags": [
     "student",
     "written",
     "q_eda1"
    ],
    "cell_id": "00064-54961526-d577-41d3-b2ba-dcde55371a6b",
    "deepnote_to_be_reexecuted": false,
    "source_hash": "12305878",
    "execution_start": 1662072577056,
    "execution_millis": 447,
    "deepnote_cell_type": "code",
    "deepnote_cell_height": 767,
    "deepnote_output_heights": [
     346
    ]
   },
   "source": "feature_df = pd.DataFrame(data = X_train, columns = words_40) #checking corr. using the training set!\n\n#code is repasted from above for convenience in grading\ndef remove_correlated(feature_data, corr_threshold = 0.9):\n    \"\"\"Removes highly correlated features (and chooses one of them) for the correlation matrix. Returns an updated correlation matrix.\"\"\"\n    #you just need to check the bottom half (triangle) of the corr matrix; the rest are repeats. Can ignore the 1s diagnal as well\n    corr_features = set()\n    corr_matrix = feature_data.corr()\n    \n    for row in range(len(corr_matrix.columns)):\n        for col in range(row):\n            if np.abs(corr_matrix.iloc[row, col]) > corr_threshold: #if this is true, remove one feature\n                column = corr_matrix.columns[row]\n                corr_features.add(column) #this already won't add duplicates; and since we are just adding from one axis, it won't get rid of both correlated features\n                #another way to do this would be to drop columns... but thats complicated bc we are iterating on a fixed number of rows which = columns etc.\n    return feature_data.drop(labels = corr_features, axis = 1)\n\nsns.heatmap(feature_df.corr()) #this is what it was before; there are a lot of light spots/white which indicates high correlation (according to the legend)\nplt.title('Correlation Heat Map of Top 40 Words Used as Features');",
   "execution_count": 47,
   "outputs": [
    {
     "data": {
      "text/plain": "<Figure size 432x288 with 2 Axes>",
      "image/png": "[encoded data removed]"
     },
     "metadata": {
      "image/png": {
       "width": 516,
       "height": 345
      }
     },
     "output_type": "display_data"
    }
   ]
  },
  {
   "cell_type": "code",
   "source": "#If we try removing correlated features\nfiltered_df = remove_correlated(feature_df, 0.8)\nfiltered_df.shape ",
   "metadata": {
    "cell_id": "00066-286b8f83-fff6-4244-a649-1bd669a8ef58",
    "deepnote_to_be_reexecuted": false,
    "source_hash": "ef5abcfc",
    "execution_start": 1662072656260,
    "execution_millis": 377,
    "deepnote_cell_type": "code",
    "deepnote_cell_height": 148.1875,
    "deepnote_output_heights": [
     20.1875
    ]
   },
   "outputs": [
    {
     "output_type": "execute_result",
     "execution_count": 53,
     "data": {
      "text/plain": "(4653, 40)"
     },
     "metadata": {}
    }
   ],
   "execution_count": null
  },
  {
   "cell_type": "markdown",
   "source": "As shown above, no features were removed led to the best accuracy for the model. The heatmap showed that across all features, not many were too highly correlated -- the upperbound of correlation coefficients was 0.8, as that proved to be the best threshold (in the previous section).",
   "metadata": {
    "cell_id": "e33909c5f0d644e4b5d94b0bba625e0b",
    "tags": [],
    "deepnote_cell_type": "markdown",
    "deepnote_cell_height": 97.1875
   }
  },
  {
   "cell_type": "markdown",
   "source": "### ROC Curve\nA trade-off between True Positive Rates and False Positive ",
   "metadata": {
    "deletable": false,
    "editable": false,
    "nbgrader": {
     "grade": false,
     "grade_id": "q9",
     "locked": true,
     "schema_version": 2,
     "solution": false
    },
    "cell_id": "00069-1733d8e8-31d8-4ee5-bfe5-31ab74c3db0d",
    "deepnote_cell_type": "markdown",
    "deepnote_cell_height": 100.390625
   }
  },
  {
   "cell_type": "code",
   "metadata": {
    "cell_id": "00070-df5a58de-92f4-498a-bc66-69d6b6f69993",
    "deepnote_to_be_reexecuted": false,
    "source_hash": "d34c9721",
    "execution_start": 1662072883189,
    "execution_millis": 5941,
    "deepnote_cell_type": "code",
    "deepnote_cell_height": 574,
    "deepnote_output_heights": [
     302
    ]
   },
   "source": "from sklearn.metrics import roc_curve\n\ny_proba = best_model.predict_proba(X_train)[:, 1] #grabs the y_probabilities\nfpr, tpr, _= roc_curve(Y_train, y_proba)\n\nsns.lineplot(x = fpr, y = tpr)\nplt.xlim(0, 1)\nplt.ylim(0)\nplt.xlabel(\"False Positive Rate\")\nplt.ylabel(\"True Positive Rate\")\nplt.title('ROC Curve for Training Data');",
   "execution_count": 54,
   "outputs": [
    {
     "data": {
      "text/plain": "<Figure size 432x288 with 1 Axes>",
      "image/png": "[encoded data removed]"
     },
     "metadata": {
      "image/png": {
       "width": 420,
       "height": 301
      }
     },
     "output_type": "display_data"
    }
   ]
  },
  {
   "cell_type": "markdown",
   "source": "## Test Predictions\n\nLet's test our accuracy!",
   "metadata": {
    "deletable": false,
    "editable": false,
    "nbgrader": {
     "grade": false,
     "grade_id": "q10",
     "locked": true,
     "schema_version": 2,
     "solution": false
    },
    "cell_id": "00071-868f3aec-851f-46b3-9bff-037d23d98914",
    "deepnote_cell_type": "markdown",
    "deepnote_cell_height": 108.390625
   }
  },
  {
   "cell_type": "code",
   "source": "X_test = words_in_texts(best_features, test['email'])\ntest_predictions = best_model.predict(X_test)\n\naccuracy = sum(test_predictions == test['label_num'])/test_predictions.shape[0]\naccuracy",
   "metadata": {
    "ExecuteTime": {
     "end_time": "2019-04-02T00:27:38.650695Z",
     "start_time": "2019-04-02T00:27:38.469233Z"
    },
    "nbgrader": {
     "grade": false,
     "grade_id": "q10-answer",
     "locked": false,
     "schema_version": 2,
     "solution": true
    },
    "cell_id": "00072-9149bba2-5633-4d03-bfbf-7ca9ed604a88",
    "deepnote_to_be_reexecuted": false,
    "source_hash": "1a986e51",
    "execution_start": 1662072895298,
    "execution_millis": 873,
    "deepnote_cell_type": "code",
    "deepnote_cell_height": 184.1875,
    "deepnote_output_heights": [
     20.1875
    ]
   },
   "execution_count": 56,
   "outputs": [
    {
     "output_type": "execute_result",
     "execution_count": 56,
     "data": {
      "text/plain": "0.918918918918919"
     },
     "metadata": {}
    }
   ]
  },
  {
   "cell_type": "markdown",
   "source": "That concludes this section of the Logisitc Regression Email Classifier. Further analysis can be done using Vader sentiment analysis -- stay tuned.",
   "metadata": {
    "cell_id": "00081-6c048da4-8257-43fe-8243-c44c337b5aaf",
    "deepnote_cell_type": "markdown",
    "deepnote_cell_height": 74.796875
   }
  },
  {
   "cell_type": "markdown",
   "source": "## Random Forest\n\nFor fun, lets see how much better a Random Forest Model fares compared to the logistic regression classifier. TO BE CONTINUED",
   "metadata": {
    "cell_id": "4928abbdb8074cf1a88656ff5ef6d6f6",
    "tags": [],
    "deepnote_cell_type": "markdown",
    "deepnote_cell_height": 130.796875
   }
  },
  {
   "cell_type": "markdown",
   "source": "<a style='text-decoration:none;line-height:16px;display:flex;color:#5B5B62;padding:10px;justify-content:end;' href='https://deepnote.com?utm_source=created-in-deepnote-cell&projectId=f27f84c3-3a8f-418e-a519-ea499750e71c' target=\"_blank\">\n<img alt='Created in deepnote.com' style='display:inline;max-height:16px;margin:0px;margin-right:7.5px;' src='data:image/svg+xml;base64,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' > </img>\nCreated in <span style='font-weight:600;margin-left:4px;'>Deepnote</span></a>",
   "metadata": {
    "tags": [],
    "created_in_deepnote_cell": true,
    "deepnote_cell_type": "markdown"
   }
  }
 ],
 "nbformat": 4,
 "nbformat_minor": 4,
 "metadata": {
  "kernelspec": {
   "display_name": "Python 3 (ipykernel)",
   "language": "python",
   "name": "python3"
  },
  "language_info": {
   "name": "python",
   "version": "3.9.0",
   "mimetype": "text/x-python",
   "codemirror_mode": {
    "name": "ipython",
    "version": 3
   },
   "pygments_lexer": "ipython3",
   "nbconvert_exporter": "python",
   "file_extension": ".py"
  },
  "deepnote_notebook_id": "aec2a802-e42e-471e-8300-8841e1f10df9",
  "deepnote": {},
  "deepnote_app_layout": "dashboard",
  "deepnote_execution_queue": []
 }
}